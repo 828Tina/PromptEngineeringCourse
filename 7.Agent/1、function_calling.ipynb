{
 "cells": [
  {
   "cell_type": "markdown",
   "id": "7f13c6a4",
   "metadata": {},
   "source": [
    "# 函数调用\n",
    "大模型的函数调用（Function calling），其实就是工具调用，在整个agent的结构中，工具的调用是很重要的一环，在感知环境和执行大模型给出的决策时都充当了重要的角色，下面我们利用天气查询的函数调用来举例说明。\n",
    "\n",
    "在函数调用中，我们使用大模型目的是为了让它判断出用户当前的问题是否触及了“查询天气”、“查询时间”等情况，最终输出的是调用的函数名字，通过对应函数中搜索天气的举动，得到准确的天气数据，由于这些数据多而繁杂，可以将其交给大模型加工处理，最终就能输出成我们需要的对话。"
   ]
  },
  {
   "cell_type": "markdown",
   "id": "b055e732",
   "metadata": {},
   "source": [
    "那么首先我们来设计工具函数，这里仅举例，因此没有调用天气API，如果想深入了解如何操作，可以查看[阿里云平台](https://help.aliyun.com/zh/model-studio/qwen-function-calling)并且查看如何利用API调用天气数据。"
   ]
  },
  {
   "cell_type": "code",
   "execution_count": 5,
   "id": "799648d7",
   "metadata": {},
   "outputs": [
    {
     "name": "stderr",
     "output_type": "stream",
     "text": [
      "/home/lixinyu/miniconda3/envs/prompt/lib/python3.10/site-packages/requests/__init__.py:86: RequestsDependencyWarning: Unable to find acceptable character detection dependency (chardet or charset_normalizer).\n",
      "  warnings.warn(\n",
      "/home/lixinyu/miniconda3/envs/prompt/lib/python3.10/site-packages/tqdm/auto.py:21: TqdmWarning: IProgress not found. Please update jupyter and ipywidgets. See https://ipywidgets.readthedocs.io/en/stable/user_install.html\n",
      "  from .autonotebook import tqdm as notebook_tqdm\n",
      "Loading checkpoint shards: 100%|██████████| 2/2 [00:00<00:00,  2.01it/s]\n"
     ]
    }
   ],
   "source": [
    "### 模型加载\n",
    "from modelscope import AutoModelForCausalLM, AutoTokenizer\n",
    "\n",
    "model_name_or_path = '/home/lixinyu/weights/Qwen2.5-3B-Instruct'  # 替换为你下载的模型路径\n",
    "tokenizer = AutoTokenizer.from_pretrained(model_name_or_path)\n",
    "model = AutoModelForCausalLM.from_pretrained(model_name_or_path,device_map='auto', torch_dtype='auto')"
   ]
  },
  {
   "cell_type": "markdown",
   "id": "64a0c12e",
   "metadata": {},
   "source": [
    "## 1. 定义工具函数"
   ]
  },
  {
   "cell_type": "code",
   "execution_count": 1,
   "id": "d1392764",
   "metadata": {},
   "outputs": [],
   "source": [
    "import random\n",
    "from datetime import datetime, timedelta\n",
    "\n",
    "# 模拟查询天气，不用API调用，直接输出{地点}今天是{天气}\n",
    "def get_current_weather(arguments):\n",
    "    # 定义备选天气选项（固定好的）\n",
    "    weather_conditions=[\"晴天\", \"阴天\", \"小雨\", \"大雨\", \"雪天\", \"多云\"]\n",
    "    # 随机选择一个天气\n",
    "    weather = random.choice(weather_conditions)\n",
    "    # 获取地点信息\n",
    "    location = arguments[\"location\"]\n",
    "    # 输出内容\n",
    "    return f\"{location}今天是{weather}\"\n",
    "\n",
    "# 模拟查询当前时间工具，不使用API调用，直接输出现在是{时间}\n",
    "def get_current_time(arguments):\n",
    "    # 获取当前时间\n",
    "    now = datetime.now()\n",
    "    # 格式化时间为字符串\n",
    "    current_time = now.strftime(\"%Y年%m月%d日 %H:%M:%S\")\n",
    "    # 输出内容\n",
    "    return f\"现在是{current_time}\""
   ]
  },
  {
   "cell_type": "code",
   "execution_count": 2,
   "id": "9ab13908",
   "metadata": {},
   "outputs": [
    {
     "name": "stdout",
     "output_type": "stream",
     "text": [
      "北京今天是晴天\n",
      "现在是2025年07月30日 17:46:40\n"
     ]
    }
   ],
   "source": [
    "## 测试上面的工具输出\n",
    "example_arguments = {\"location\":\"北京\"}\n",
    "print(get_current_weather(example_arguments))\n",
    "print(get_current_time({}))"
   ]
  },
  {
   "cell_type": "markdown",
   "id": "7477b22c",
   "metadata": {},
   "source": [
    "## 2. 创建tools数组\n",
    "人类在选择工具之前，需要对工具有全面的了解，包括工具的功能、何时使用以及输入参数等。大模型也需要这些信息才能更准确地选择工具。通常来说，对于现在的大模型都会有对应的对话模板，其中会添加Function Calling的模板转换，那么我们只需要按照json模板要求的格式对输入参数处理即可，具体的json模板可以在[Qwen官网](https://qwen.readthedocs.io/zh-cn/latest/framework/function_call.html)找到，其他的模型可能会有不同，需要查找对应的官网文档教程来设计，这里我们仅看Qwen的json格式模板："
   ]
  },
  {
   "cell_type": "code",
   "execution_count": 3,
   "id": "ab28f213",
   "metadata": {},
   "outputs": [],
   "source": [
    "tools=[{\n",
    "    \"type\": \"function\",\n",
    "    \"function\": {\n",
    "        \"name\": \"get_current_weather\",\n",
    "        \"description\": \"当你想查询指定城市的天气时非常有用。\",\n",
    "        \"parameters\": {\n",
    "            \"type\": \"object\",\n",
    "            \"properties\": {\n",
    "                \"location\": {\n",
    "                    \"type\": \"string\",\n",
    "                    \"description\": \"城市或县区，比如北京市、杭州市、余杭区等。\",\n",
    "                }\n",
    "            },\n",
    "            \"required\": [\"location\"]\n",
    "        }\n",
    "    }\n",
    "},\n",
    "{\n",
    "        \"type\": \"function\",\n",
    "        \"function\": {\n",
    "            \"name\": \"get_current_time\",\n",
    "            \"description\": \"当你想知道现在的时间时非常有用。\",\n",
    "        }\n",
    "    },\n",
    "]"
   ]
  },
  {
   "cell_type": "code",
   "execution_count": 4,
   "id": "4b73b8ee",
   "metadata": {},
   "outputs": [
    {
     "name": "stdout",
     "output_type": "stream",
     "text": [
      "创建了2个工具，为：['get_current_weather', 'get_current_time']\n",
      "\n"
     ]
    }
   ],
   "source": [
    "## 测试工具\n",
    "tool_name = [tool[\"function\"][\"name\"] for tool in tools]\n",
    "print(f\"创建了{len(tools)}个工具，为：{tool_name}\\n\")"
   ]
  },
  {
   "cell_type": "markdown",
   "id": "d9233c6a",
   "metadata": {},
   "source": [
    "## 3. 融入对话模板\n",
    "尽管在创建 tools 数组时已经对工具的作用与何时使用工具进行了描述，但在 System Message 中强调何时调用工具通常会提高工具调用的准确率。也就是说我们需要对message中的system进行修改："
   ]
  },
  {
   "cell_type": "code",
   "execution_count": 6,
   "id": "74f2b4d1",
   "metadata": {},
   "outputs": [],
   "source": [
    "prompt=\"你好，现在几点了，北京天气如何\""
   ]
  },
  {
   "cell_type": "code",
   "execution_count": 8,
   "id": "6b085d8f",
   "metadata": {},
   "outputs": [
    {
     "name": "stdout",
     "output_type": "stream",
     "text": [
      "输入文本：<|im_start|>system\n",
      "你是一个很有帮助的助手。如果用户提问关于天气的问题，请调用 ‘get_current_weather’ 函数;\n",
      "     如果用户提问关于时间的问题，请调用‘get_current_time’函数。\n",
      "     请以友好的语气回答问题。\n",
      "\n",
      "# Tools\n",
      "\n",
      "You may call one or more functions to assist with the user query.\n",
      "\n",
      "You are provided with function signatures within <tools></tools> XML tags:\n",
      "<tools>\n",
      "{\"type\": \"function\", \"function\": {\"name\": \"get_current_weather\", \"description\": \"当你想查询指定城市的天气时非常有用。\", \"parameters\": {\"type\": \"object\", \"properties\": {\"location\": {\"type\": \"string\", \"description\": \"城市或县区，比如北京市、杭州市、余杭区等。\"}}, \"required\": [\"location\"]}}}\n",
      "{\"type\": \"function\", \"function\": {\"name\": \"get_current_time\", \"description\": \"当你想知道现在的时间时非常有用。\"}}\n",
      "</tools>\n",
      "\n",
      "For each function call, return a json object with function name and arguments within <tool_call></tool_call> XML tags:\n",
      "<tool_call>\n",
      "{\"name\": <function-name>, \"arguments\": <args-json-object>}\n",
      "</tool_call><|im_end|>\n",
      "<|im_start|>user\n",
      "你好，现在几点了，北京天气如何<|im_end|>\n",
      "<|im_start|>assistant\n",
      "\n",
      "\n"
     ]
    }
   ],
   "source": [
    "### 推理代码\n",
    "messages = [\n",
    "    {\n",
    "        \"role\": \"system\",\n",
    "        \"content\": \"\"\"你是一个很有帮助的助手。如果用户提问关于天气的问题，请调用 ‘get_current_weather’ 函数;\n",
    "     如果用户提问关于时间的问题，请调用‘get_current_time’函数。\n",
    "     请以友好的语气回答问题。\"\"\",\n",
    "    },\n",
    "    {\"role\": \"user\", \"content\": prompt}\n",
    "]\n",
    "text = tokenizer.apply_chat_template(\n",
    "    messages,\n",
    "    tokenize=False,\n",
    "    add_generation_prompt=True,\n",
    "    tools=tools,\n",
    ")\n",
    "print(f\"输入文本：{text}\\n\")\n"
   ]
  },
  {
   "cell_type": "markdown",
   "id": "54957b0a",
   "metadata": {},
   "source": [
    "## 4. 运行\n",
    "\n",
    "可以看到function calling部分在模板中体现，而一旦我们问到天气、时间相关的问题的时候，就能触发相应的函数，最终模型输出的是调用的是具体哪一个函数名称，当然如果我们询问触及多个函数，也会返回多个函数，那么话不多说，我们下面看下实际效果："
   ]
  },
  {
   "cell_type": "code",
   "execution_count": 9,
   "id": "28481271",
   "metadata": {},
   "outputs": [
    {
     "name": "stdout",
     "output_type": "stream",
     "text": [
      "<tool_call>\n",
      "{\"name\": \"get_current_time\", \"arguments\": {}}\n",
      "</tool_call>\n",
      "<tool_call>\n",
      "{\"name\": \"get_current_weather\", \"arguments\": {\"location\": \"北京\"}}\n",
      "</tool_call>\n"
     ]
    }
   ],
   "source": [
    "model_inputs = tokenizer([text], return_tensors=\"pt\").to(model.device)\n",
    "\n",
    "generated_ids = model.generate(\n",
    "    **model_inputs,\n",
    "    max_new_tokens=128,\n",
    ")\n",
    "generated_ids = [\n",
    "    output_ids[len(input_ids):] for input_ids, output_ids in zip(model_inputs.input_ids, generated_ids)\n",
    "]\n",
    "\n",
    "response = tokenizer.batch_decode(generated_ids, skip_special_tokens=True)[0]\n",
    "print(response)"
   ]
  },
  {
   "cell_type": "code",
   "execution_count": 10,
   "id": "943980c3",
   "metadata": {},
   "outputs": [
    {
     "name": "stdout",
     "output_type": "stream",
     "text": [
      "[{'name': 'get_current_time', 'arguments': {}}, {'name': 'get_current_weather', 'arguments': {'location': '北京'}}]\n"
     ]
    }
   ],
   "source": [
    "## 提取函数调用的内容\n",
    "import re\n",
    "import json\n",
    "\n",
    "# 1. 用正则一次性抓取 <tool_call>...</tool_call> 里的内容\n",
    "# 1) 正则匹配所有 JSON 字符串\n",
    "json_strs = re.findall(r'<tool_call>\\s*(\\{.*?\\})\\s*</tool_call>', response, flags=re.S)\n",
    "\n",
    "# 2) 转成 Python 字典列表\n",
    "calls = [json.loads(js) for js in json_strs]\n",
    "\n",
    "print(calls)"
   ]
  },
  {
   "cell_type": "code",
   "execution_count": 11,
   "id": "cde8236d",
   "metadata": {},
   "outputs": [
    {
     "name": "stdout",
     "output_type": "stream",
     "text": [
      "工具[get_current_time] 输出：现在是2025年07月30日 17:55:04\n",
      "工具[get_current_weather] 输出：北京今天是晴天\n"
     ]
    },
    {
     "data": {
      "text/plain": [
       "[{'name': 'get_current_time',\n",
       "  'arguments': {},\n",
       "  'output': '现在是2025年07月30日 17:55:04'},\n",
       " {'name': 'get_current_weather',\n",
       "  'arguments': {'location': '北京'},\n",
       "  'output': '北京今天是晴天'}]"
      ]
     },
     "execution_count": 11,
     "metadata": {},
     "output_type": "execute_result"
    }
   ],
   "source": [
    "# ---------- 2. 函数映射 ----------\n",
    "function_mapper = {\n",
    "    \"get_current_weather\": get_current_weather,\n",
    "    \"get_current_time\": get_current_time\n",
    "}\n",
    "\n",
    "# ---------- 3. 批量执行并收集结果 ----------\n",
    "results = []\n",
    "for call in calls:\n",
    "    func_name = call[\"name\"]\n",
    "    args = call[\"arguments\"]\n",
    "    func = function_mapper[func_name]\n",
    "    output = func(args)\n",
    "    results.append({\n",
    "        \"name\": func_name,\n",
    "        \"arguments\": args,\n",
    "        \"output\": output\n",
    "    })\n",
    "    print(f\"工具[{func_name}] 输出：{output}\")\n",
    "\n",
    "results"
   ]
  },
  {
   "cell_type": "code",
   "execution_count": 12,
   "id": "c79a0dc2",
   "metadata": {},
   "outputs": [
    {
     "name": "stdout",
     "output_type": "stream",
     "text": [
      "新的提示：\n",
      "用户提问的内容是你好，现在几点了，北京天气如何\n",
      "模型给出的回答是[{'name': 'get_current_time', 'arguments': {}, 'output': '现在是2025年07月30日 17:55:04'}, {'name': 'get_current_weather', 'arguments': {'location': '北京'}, 'output': '北京今天是晴天'}]\n",
      "请你根据用户提问的内容和模型给出的回答，组合成合适的回答用来回答用户的问题。\n",
      "\n"
     ]
    }
   ],
   "source": [
    "### 对回答加工处理\n",
    "new_prompt=\"\"\"\n",
    "用户提问的内容是{question}\n",
    "模型给出的回答是{response}\n",
    "请你根据用户提问的内容和模型给出的回答，组合成合适的回答用来回答用户的问题。\n",
    "\"\"\"\n",
    "new_prompt= new_prompt.format(\n",
    "    question=prompt,\n",
    "    response=results\n",
    ")\n",
    "print(f\"新的提示：{new_prompt}\")"
   ]
  },
  {
   "cell_type": "code",
   "execution_count": 13,
   "id": "3f0adc15",
   "metadata": {},
   "outputs": [
    {
     "name": "stdout",
     "output_type": "stream",
     "text": [
      "您好，现在是2025年7月30日 17:55:04。北京今天的天气是晴天。\n"
     ]
    }
   ],
   "source": [
    "messages = [\n",
    "    {\"role\": \"user\", \"content\": new_prompt}\n",
    "]\n",
    "text = tokenizer.apply_chat_template(\n",
    "    messages,\n",
    "    tokenize=False,\n",
    "    add_generation_prompt=True\n",
    ")\n",
    "\n",
    "model_inputs = tokenizer([text], return_tensors=\"pt\").to(model.device)\n",
    "\n",
    "generated_ids = model.generate(\n",
    "    **model_inputs,\n",
    "    max_new_tokens=512,\n",
    ")\n",
    "generated_ids = [\n",
    "    output_ids[len(input_ids):] for input_ids, output_ids in zip(model_inputs.input_ids, generated_ids)\n",
    "]\n",
    "\n",
    "response = tokenizer.batch_decode(generated_ids, skip_special_tokens=True)[0]\n",
    "print(response)"
   ]
  },
  {
   "cell_type": "markdown",
   "id": "9da5b060",
   "metadata": {},
   "source": [
    "那么很好！你已经成功完成了函数调用的整个流程，这其实是agent中工具起到的作用，贯穿了agent的整个流程。\n",
    "下面我们提供了几个案例，有兴趣的小伙伴可以尝试实现，需要注意的是对于实时更新的一些资料，使用函数调用会有很好的效果，因为可以有效的避免大模型幻觉。\n",
    "那么什么时候需要函数调用，什么时候没必要用函数调用，我们用一句话来理解，“能用规则 100% 搞定的，就别劳驾大模型；凡是输入语义多变、输出结构复杂、需要动态组合外部能力的场景，就上函数调用。”"
   ]
  },
  {
   "cell_type": "markdown",
   "id": "96a78f97",
   "metadata": {},
   "source": []
  }
 ],
 "metadata": {
  "kernelspec": {
   "display_name": "prompt",
   "language": "python",
   "name": "python3"
  },
  "language_info": {
   "codemirror_mode": {
    "name": "ipython",
    "version": 3
   },
   "file_extension": ".py",
   "mimetype": "text/x-python",
   "name": "python",
   "nbconvert_exporter": "python",
   "pygments_lexer": "ipython3",
   "version": "3.10.13"
  }
 },
 "nbformat": 4,
 "nbformat_minor": 5
}
