{
 "cells": [
  {
   "cell_type": "markdown",
   "id": "c852d315",
   "metadata": {},
   "source": [
    "## 查看数据集"
   ]
  },
  {
   "cell_type": "code",
   "execution_count": 1,
   "id": "19621458",
   "metadata": {},
   "outputs": [],
   "source": [
    "data_path = \"/home/lixinyu/data/cosmopedia-50k/data\""
   ]
  },
  {
   "cell_type": "code",
   "execution_count": 4,
   "id": "28d0dfea",
   "metadata": {},
   "outputs": [
    {
     "name": "stderr",
     "output_type": "stream",
     "text": [
      "2025-07-24 17:39:16,227 - modelscope - WARNING - Use trust_remote_code=True. Will invoke codes from /home/lixinyu/data/cosmopedia-50k/data. Please make sure that you can trust the external codes.\n",
      "2025-07-24 17:39:16,231 - modelscope - WARNING - Use trust_remote_code=True. Will invoke codes from /home/lixinyu/data/cosmopedia-50k/data. Please make sure that you can trust the external codes.\n"
     ]
    },
    {
     "data": {
      "text/plain": [
       "{'prompt': 'Here is an extract from a webpage: \"What can cause my settlement offer to be delayed?\\nWhen you’ve been injured in an Austin truck accident, one of the most common questions is how long it will take for the insurance company to make an offer to settle your case. The answer depends on a variety of factors.\\nThe process starts with filing an insurance claim and providing evidence that shows exactly what happened during the accident and who was at fault. This can involve gathering key Austin truck accident evidence such as:\\n- Medical records\\n- Photographs or video footage of the crash scene\\n- Witness statements\\n- Other documents related to your injuries and damages.\\nOnce this information has been collected by both sides, negotiations may begin between your Austin truck accident lawyer and the insurance company on how much compensation should be offered in exchange for settling the case out of court.\\nIt is important to remember that every truck accident case is unique so there is no set timeline as far as when a settlement mig\".\\n\\nWrite an informative and insightful blog post that expands upon the extract above. Your post should delve into the nuances of the topic, offering fresh perspectives and deeper analysis. Aim to:\\n\\n- Inform: Provide valuable, well-researched information that educates the reader.\\n- Engage: Write in a conversational tone that connects with the audience, making complex ideas accessible.\\n- Illustrate: Use examples, anecdotes, or personal experiences to bring the topic to life.\\nDo not give a title and do not start with sentences like \"Have you ever...\" or \"Hello dear readers..\", simply write the content without these introductory phrases.',\n",
       " 'text_token_length': 585,\n",
       " 'text': \" When you've been involved in an auto accident, particularly one involving a commercial truck, receiving a settlement offer from the insurance company is often top of mind. After all, medical bills, lost wages, and property damage can quickly add up, leaving you financially strained. However, the timing of a settlement offer can vary greatly depending on several factors. Let's delve deeper into the nuances of this topic.\\n\\nFirst and foremost, before any settlement negotiation can occur, it's crucial to establish liability. Gathering evidence such as medical records, photographs, witness statements, and other relevant documentation helps build a solid foundation for your case. An experienced Austin truck accident attorney can guide you through this process and ensure that all necessary evidence is gathered and presented effectively. \\n\\nOne factor that can significantly impact the timeline of a settlement offer is the complexity of the case itself. For instance, if multiple parties are involved, determining responsibility becomes more intricate, potentially delaying the settlement process. Additionally, cases involving severe injuries usually require extensive medical evaluations and treatment plans, which takes time to compile and present accurately.\\n\\nAnother critical aspect influencing the speed of a settlement offer is communication between the two negotiating parties – i.e., your legal representative and the insurance adjuster. While some adjusters work diligently to resolve claims swiftly, others might employ stall tactics designed to lowball offers or wear down claimants. Patience and perseverance are essential here; attempting to rush the process could result in a lower payout than what you rightfully deserve.\\n\\nFurthermore, keep in mind that each case is unique, meaning there's no standard timeline for receiving a settlement offer following a truck accident. Some claims may reach resolution within months, while others might drag on for over a year due to unforeseen complications or disputes. It's vital to stay informed throughout the process, maintaining open lines of communication with your attorney to understand where things stand and what to expect moving forward.\\n\\nLastly, consider mediation as a viable option if negotiations become tense or protracted. Mediators act as impartial third parties who facilitate discussions between opposing counsel, aiming to find middle ground and expedite resolutions. By bringing in a mediator, both sides agree to compromise, often leading to faster (and fairer) outcomes.\\n\\nIn conclusion, various elements contribute to the length of time it takes for a settlement offer after an Austin truck accident. Building a strong case through thorough evidence collection, exercising patience during negotiations, and considering alternative dispute resolution methods can help streamline the process. Remember, staying informed and working closely with an experienced truck accident lawyer increases your chances of securing a favorable outcome, even if it requires a bit of waiting.\",\n",
       " 'seed_data': 'web_samples_v2',\n",
       " 'format': 'blogpost',\n",
       " 'audience': 'general'}"
      ]
     },
     "execution_count": 4,
     "metadata": {},
     "output_type": "execute_result"
    }
   ],
   "source": [
    "from modelscope.msdatasets import MsDataset\n",
    "ds =  MsDataset.load(data_path, subset_name='default', split='train')\n",
    "ds[0]"
   ]
  },
  {
   "cell_type": "code",
   "execution_count": null,
   "id": "e1df211e",
   "metadata": {},
   "outputs": [],
   "source": []
  },
  {
   "cell_type": "markdown",
   "id": "84858f34",
   "metadata": {},
   "source": [
    "## 检查生成的数据\n"
   ]
  },
  {
   "cell_type": "code",
   "execution_count": 6,
   "id": "533390be",
   "metadata": {},
   "outputs": [
    {
     "name": "stdout",
     "output_type": "stream",
     "text": [
      "JSONL文件第一条数据：\n",
      "{\n",
      "  \"text\": \" Use \\\"In a world not so different from our own, but in need of a transformation, live a group of individuals, with similar traits, but varying aspirations, who journey through a transformative obelisk enigma.\\\"\\n\\n---\\n\\nIn the bustling metropolis of Tenebris, where shadows played and secrets whispered like forgotten dreams, lived fifty-year-old Carl. His fingers traced the keyboard with a practiced rhythm that only a soul-dry hands could achieve. Nestled at the heart of the city, Carl worked in the Ministry of Information and Conspiracies, deciphering mysteries left by the Imperium of the past; his task always humbling, leaving his eyes weary yet eyesight sharper, his mind sharper still.\\n\\nOne fateful morning, Carl had a cryptic note delivered to his briefcase. It depicted a strange obelisk and below, a staggering calculation stamped in elegant handwriting—\\\"50 words per minute at 4 hours per day.\\\" The note also held an enigmatic final word—‘X’—with enigmatic esoteric rhythms etching it. His heart beat faster, for the world moved at different tempos than he understood.\\n\\nCarl pondered the phrase, thinking of various obelisks throughout history. Learning about the last he worked pieced together an answer—this cryptogram was intended to sculpt a collective's new purpose, like smoldering carvings imbued within their souls. It was not a mere challenge or task, but a call to reflection and a direction toward healing the city's withdrawn self.\\n\\nAfter a long, introspective walk, he returned home. His cerebral tea stand was quiet, a stark contrast to the sporadic madness of the city. Opening the bottle of yeniri, he drank deeply, contemplating. As his mind dissolved into pure thought, the solution began to formulate, a rhythmic purity of logic and intuition. However, the collection of answers, 'X', held various interpretations...\\n\\nFour hours flew by as he silently calculated each possible 'X'. Each contemplated interpretation led Carl deeper into the solitary never ending maze of the mind, a personal epistemology. For some, 'X' indicated optimism, a granary full of knowledge; for few, it symbolized uncertainty, eternally indwelling the puzzles and unknowns. Yet, each 'X' revealed something peculiar; all were symphonious arithmomancy that virtually harmonized to form the core of answers for each person.\\n\\nHours of mulling passed, leaving Carl with more queries than answers. Perhaps, 'X' wasn't a single number, but a multitude of symmetries! His solitude now was unnaturally newfound, his reflections altered: he understood better the city's pressing questions, and their chance of evolution.\\n\\nHe returned to office, nervous that all the 'X's were void of any resolve. However, as the day progressed, a gradual diligence commenced. A microformula was gained and put to use—modification of morning routines, befriending neighbors, strengthening of friendships with colleagues—simple but vibrant symphonic activities that released the ability to empathize formerly lost or unreachable.\\n\\nCarl's life subtly morphed with every passing day; people around him noticed the change, the now peaceful demeanor, and less long hours at office. From an isolated character, he had moved to a beacon of change, an enigmatic person revealing the beauty of simple human interactions. The Wise observed, and realized the 'X' was more of a directive, never a numerical answer, rather a belief, a resolve, a beacon for a city to its evolutionary future.\\n\\nThe city experienced a transformationeque with variables, every 'X' being a potential solution, a boon in such a rarely blessed land. Celebrating the psychophysical shift, Carl adopted a mythological lens. Refined, raised, and reframed with his previous wisdom, the obelisk was now a visionary way of unification—'IMPERIUM' came into MIND with the transformation, readyfor the city’s merge-tide.\\n\\nThe 'X' became more than a number; it was a endless symphonic, eternally evolving equation for a metropolis to champion for, at least for Carl—a legacy forever more than an answer.\\nThe end.\\n\\nIn this version, Carl's journey and transformation are intertwined with the cultural aspect of a 'larger than life' symbol and its elevation to a symbol of new unity. It becomes a little more clear what exactly he solved—a call to change, that at the same time is something simple and universal, inspiring the city to shed its isolation and become a greater entity through empathizing, interacting and communicating ideas with each other. The story ends on a positive note of change, with city’s piecemeal evolution into a new homogenous entity and the resolution as being something from a greater unity. The final sentence leaves open the possibility for Carl and his community to transform further, by symbolizing unity with the proleptic imperium and a continuing call for religious meeting.\",\n",
      "  \"id\": \"/0\",\n",
      "  \"metadata\": {\n",
      "    \"prompt\": \"Write a story that explores a situation slightly related to this text snippet:\\n“Carl types at a speed of 50 words per minute. If he types continuously for 4 hours per day, how many words can he type in x days?\\nIf we know the answer to the above question is 84000, what is the value of unknown variable x?\\nWe know that Carl types at a speed of 50 words per minute, or 50 * 60 = 3000 words per hour.\\nIf he types continuously for 4 hours per day, he can type 4 * 3000 = 12000 words per day.\\nTo find out how many words he can type in x days, we can multiply the number of words he can type per day by x: 12000 * x = 12000x.\\nWe are given that the number of words he can type in x days is 84000, so we can write: 12000x = 84000.\\nDividing both sides by 12000, we get: x = 7.\\nThe value of x is 7.\\n#### 7\\nThe answer is: 7”\\n\\nThe story should unfold through the characters interactions, decisions, and the consequences of their actions. Aim to weave in common sense lessons and social cues. The narrative should cater to a diverse age group, including at least one dialogue and presenting both positive and negative outcomes.\\nDo not start with classic sentences like \\\"Once upon a time\\\", be creative.\",\n",
      "    \"timestamp\": 1753426217.83246,\n",
      "    \"file_path\": \"/home/lixinyu/nlp/prompt_engineering_tutorial/pretrain_data_generation/pretrain.jsonl\",\n",
      "    \"token_count\": 1037\n",
      "  }\n",
      "}\n"
     ]
    }
   ],
   "source": [
    "import json\n",
    "\n",
    "def read_first_jsonl_entry(file_path):\n",
    "    \"\"\"读取JSONL文件的第一条数据并返回\"\"\"\n",
    "    try:\n",
    "        with open(file_path, 'r', encoding='utf-8') as f:\n",
    "            # 读取第一行\n",
    "            first_line = f.readline()\n",
    "            if not first_line:\n",
    "                return \"文件为空\"\n",
    "            \n",
    "            # 解析JSON\n",
    "            first_entry = json.loads(first_line)\n",
    "            return first_entry\n",
    "    except FileNotFoundError:\n",
    "        return f\"错误：文件 '{file_path}' 不存在\"\n",
    "    except json.JSONDecodeError:\n",
    "        return \"错误：第一条数据不是有效的JSON格式\"\n",
    "    except Exception as e:\n",
    "        return f\"发生错误：{str(e)}\"\n",
    "\n",
    "# 使用示例\n",
    "if __name__ == \"__main__\":\n",
    "    # 替换为你的JSONL文件路径\n",
    "    jsonl_file_path = \"./data/00000.jsonl\"\n",
    "    \n",
    "    # 获取第一条数据\n",
    "    first_data = read_first_jsonl_entry(jsonl_file_path)\n",
    "    \n",
    "    # 打印结果（使用indent参数让JSON格式化显示）\n",
    "    if isinstance(first_data, dict):\n",
    "        print(\"JSONL文件第一条数据：\")\n",
    "        print(json.dumps(first_data, ensure_ascii=False, indent=2))\n",
    "    else:\n",
    "        print(first_data)\n",
    "    "
   ]
  },
  {
   "cell_type": "code",
   "execution_count": 5,
   "id": "f3471597",
   "metadata": {},
   "outputs": [
    {
     "name": "stdout",
     "output_type": "stream",
     "text": [
      "成功转换：./minhash_results/deduplicated_output/00000.jsonl.gz -> 00000.jsonl\n"
     ]
    }
   ],
   "source": [
    "import gzip\n",
    "\n",
    "def convert_gz_to_jsonl(gz_file_path, output_jsonl_path):\n",
    "    \"\"\"\n",
    "    将jsonl.gz压缩文件转换为普通jsonl文件\n",
    "    \n",
    "    参数:\n",
    "        gz_file_path: 输入的jsonl.gz文件路径\n",
    "        output_jsonl_path: 输出的jsonl文件路径\n",
    "    \"\"\"\n",
    "    try:\n",
    "        # 打开压缩文件进行读取\n",
    "        with gzip.open(gz_file_path, 'rt', encoding='utf-8') as gz_file:\n",
    "            # 打开输出文件进行写入\n",
    "            with open(output_jsonl_path, 'w', encoding='utf-8') as jsonl_file:\n",
    "                # 逐行读取并写入\n",
    "                for line in gz_file:\n",
    "                    # 保留原始格式，直接写入\n",
    "                    jsonl_file.write(line)\n",
    "        \n",
    "        print(f\"成功转换：{gz_file_path} -> {output_jsonl_path}\")\n",
    "        return True\n",
    "    \n",
    "    except FileNotFoundError:\n",
    "        print(f\"错误：输入文件 '{gz_file_path}' 不存在\")\n",
    "    except Exception as e:\n",
    "        print(f\"转换失败：{str(e)}\")\n",
    "    return False\n",
    "\n",
    "# 使用示例\n",
    "if __name__ == \"__main__\":\n",
    "    # 输入的gz文件路径\n",
    "    input_gz_path = \"./minhash_results/deduplicated_output/00000.jsonl.gz\"\n",
    "    # 输出的jsonl文件路径\n",
    "    output_jsonl_path = \"00000.jsonl\"\n",
    "    \n",
    "    # 执行转换\n",
    "    convert_gz_to_jsonl(input_gz_path, output_jsonl_path)\n",
    "    "
   ]
  },
  {
   "cell_type": "code",
   "execution_count": null,
   "id": "a06e9776",
   "metadata": {},
   "outputs": [],
   "source": []
  }
 ],
 "metadata": {
  "kernelspec": {
   "display_name": "prompt",
   "language": "python",
   "name": "python3"
  },
  "language_info": {
   "codemirror_mode": {
    "name": "ipython",
    "version": 3
   },
   "file_extension": ".py",
   "mimetype": "text/x-python",
   "name": "python",
   "nbconvert_exporter": "python",
   "pygments_lexer": "ipython3",
   "version": "3.10.13"
  }
 },
 "nbformat": 4,
 "nbformat_minor": 5
}
