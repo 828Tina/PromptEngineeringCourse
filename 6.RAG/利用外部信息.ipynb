{
 "cells": [
  {
   "cell_type": "markdown",
   "id": "64f1de59",
   "metadata": {},
   "source": [
    "# RAG的提示词教程\n",
    "\n",
    "1. 向量数据库的简单构建\n",
    "2. RAG的实现"
   ]
  },
  {
   "cell_type": "markdown",
   "id": "0f207d29",
   "metadata": {},
   "source": [
    "## 1、向量数据库的简单构建"
   ]
  },
  {
   "cell_type": "code",
   "execution_count": 23,
   "id": "9ea2fd7f",
   "metadata": {},
   "outputs": [],
   "source": [
    "import numpy as np\n",
    "from typing import List, Tuple\n",
    "\n",
    "class SimpleVectorDB:\n",
    "    \"\"\"简单向量数据库实现\"\"\"\n",
    "    \n",
    "    def __init__(self):\n",
    "        \"\"\"初始化向量数据库\"\"\"\n",
    "        self.vectors = []  # 存储向量\n",
    "        self.metadata = []  # 存储向量对应的元数据\n",
    "        self.dim = None  # 向量维度\n",
    "    \n",
    "    def add_vector(self, vector: List[float], metadata: dict = None) -> int:\n",
    "        \"\"\"\n",
    "        添加向量到数据库\n",
    "        \n",
    "        参数:\n",
    "            vector: 要添加的向量\n",
    "            metadata: 向量相关的元数据\n",
    "            \n",
    "        返回:\n",
    "            向量在数据库中的索引\n",
    "        \"\"\"\n",
    "        # 转换为numpy数组\n",
    "        vector = np.array(vector, dtype=np.float32)\n",
    "        \n",
    "        # 检查向量维度\n",
    "        if self.dim is None:\n",
    "            self.dim = len(vector)\n",
    "        elif len(vector) != self.dim:\n",
    "            raise ValueError(f\"向量维度必须为{self.dim}\")\n",
    "        \n",
    "        # 保存向量和元数据\n",
    "        self.vectors.append(vector)\n",
    "        self.metadata.append(metadata or {})\n",
    "        \n",
    "        # 返回向量索引\n",
    "        return len(self.vectors) - 1\n",
    "    \n",
    "    def search(self, query_vector: List[float], k: int = 5) -> List[Tuple[int, float, dict]]:\n",
    "        \"\"\"\n",
    "        搜索最相似的向量\n",
    "        \n",
    "        参数:\n",
    "            query_vector: 查询向量\n",
    "            k: 返回的相似向量数量\n",
    "            \n",
    "        返回:\n",
    "            包含元组的列表，每个元组格式为 (索引, 相似度, 元数据)\n",
    "        \"\"\"\n",
    "        # 转换为numpy数组\n",
    "        query_vector = np.array(query_vector, dtype=np.float32)\n",
    "        \n",
    "        # 计算相似度（使用余弦相似度）\n",
    "        similarities = []\n",
    "        for i, vector in enumerate(self.vectors):\n",
    "            similarity = np.dot(query_vector, vector) / (np.linalg.norm(query_vector) * np.linalg.norm(vector))\n",
    "            similarities.append((i, similarity, self.metadata[i]))\n",
    "        \n",
    "        # 按相似度排序并返回前k个\n",
    "        similarities.sort(key=lambda x: x[1], reverse=True)\n",
    "        return similarities[:k]\n",
    "    \n",
    "    def __len__(self) -> int:\n",
    "        \"\"\"返回数据库中向量的数量\"\"\"\n",
    "        return len(self.vectors)"
   ]
  },
  {
   "cell_type": "code",
   "execution_count": null,
   "id": "75d2e8f7",
   "metadata": {},
   "outputs": [],
   "source": [
    "import numpy as np\n",
    "from typing import List, Dict, Optional\n",
    "\n",
    "class VectorStorage:\n",
    "    \"\"\"简单向量存储类，仅负责向量的存储功能\"\"\"\n",
    "    \n",
    "    def __init__(self):\n",
    "        \"\"\"初始化向量存储\"\"\"\n",
    "        self.vectors = []  # 存储向量\n",
    "        self.metadata = []  # 存储向量对应的元数据\n",
    "        self.dim = None  # 向量维度\n",
    "    \n",
    "    def add(self, vector: List[float], metadata: Optional[Dict] = None) -> int:\n",
    "        \"\"\"\n",
    "        添加向量到存储\n",
    "        \n",
    "        参数:\n",
    "            vector: 要添加的向量\n",
    "            metadata: 向量相关的元数据\n",
    "            \n",
    "        返回:\n",
    "            向量在存储中的索引\n",
    "        \"\"\"\n",
    "        # 转换为numpy数组\n",
    "        vector = np.array(vector, dtype=np.float32)\n",
    "        \n",
    "        # 检查向量维度\n",
    "        if self.dim is None:\n",
    "            self.dim = len(vector)\n",
    "        elif len(vector) != self.dim:\n",
    "            raise ValueError(f\"向量维度必须为{self.dim}\")\n",
    "        \n",
    "        # 保存向量和元数据\n",
    "        self.vectors.append(vector)\n",
    "        self.metadata.append(metadata or {})\n",
    "        \n",
    "        # 返回向量索引\n",
    "        return len(self.vectors) - 1\n",
    "    \n",
    "    def get(self, index: int) -> tuple[np.ndarray, dict]:\n",
    "        \"\"\"\n",
    "        获取指定索引的向量和元数据\n",
    "        \n",
    "        参数:\n",
    "            index: 向量索引\n",
    "            \n",
    "        返回:\n",
    "            元组 (向量, 元数据)\n",
    "        \"\"\"\n",
    "        if 0 <= index < len(self.vectors):\n",
    "            return self.vectors[index], self.metadata[index]\n",
    "        raise IndexError(\"索引超出范围\")\n",
    "    def search(self, query: str, k: int = 2) -> List[tuple[int, float, dict]]:\n",
    "        \"\"\"        搜索最相似的向量\n",
    "        参数:\n",
    "            query_vector: 查询向量\n",
    "            k: 返回的相似向量数量\n",
    "        返回:\n",
    "            包含元组的列表，每个元组格式为 (索引, 相似度, 元数据)\n",
    "        \"\"\"\n",
    "        # 输入的文本转换成向量格式\n",
    "        query_vector = embedding_model.encode([query], prompt_name=\"query\")\n",
    "\n",
    "        # 计算相似度\n",
    "        similarities = embedding_model.similarity(query_vector, self.vectors)\n",
    "\n",
    "        # 获取最相似的k个向量的索引\n",
    "        top_k_indices = similarities.argsort()[-k:][::-1]\n",
    "\n",
    "        # 返回结果\n",
    "        return [(index, similarities[index], self.metadata[index]) for index in top_k_indices]\n",
    "\n",
    "    def __len__(self) -> int:\n",
    "        \"\"\"返回存储中向量的数量\"\"\"\n",
    "        return len(self.vectors)"
   ]
  },
  {
   "cell_type": "code",
   "execution_count": 6,
   "id": "77a56fbf",
   "metadata": {},
   "outputs": [
    {
     "name": "stdout",
     "output_type": "stream",
     "text": [
      "查询向量: [144, 567, 3.1]\n",
      "搜索结果:\n",
      "索引: 2, 相似度: 0.6838, 元数据: {'id': 3, 'name': '向量C'}\n",
      "索引: 1, 相似度: 0.6681, 元数据: {'id': 2, 'name': '向量B'}\n",
      "索引: 0, 相似度: 0.5881, 元数据: {'id': 1, 'name': '向量A'}\n"
     ]
    }
   ],
   "source": [
    "# 创建向量数据库实例\n",
    "db = SimpleVectorDB()\n",
    "\n",
    "# 添加一些向量\n",
    "db.add_vector([1, 2, 3], {\"id\": 1, \"name\": \"向量A\"})\n",
    "db.add_vector([4, 5, 6], {\"id\": 2, \"name\": \"向量B\"})\n",
    "db.add_vector([7, 8, 9], {\"id\": 3, \"name\": \"向量C\"})\n",
    "\n",
    "# 搜索相似向量\n",
    "query = [144, 567, 3.1]\n",
    "results = db.search(query, k=3)\n",
    "\n",
    "# 打印搜索结果\n",
    "print(f\"查询向量: {query}\")\n",
    "print(\"搜索结果:\")\n",
    "for idx, sim, meta in results:\n",
    "    print(f\"索引: {idx}, 相似度: {sim:.4f}, 元数据: {meta}\")    "
   ]
  },
  {
   "cell_type": "markdown",
   "id": "b4f70bf7",
   "metadata": {},
   "source": [
    "## 2、RAG实现"
   ]
  },
  {
   "cell_type": "code",
   "execution_count": 5,
   "id": "112b93aa",
   "metadata": {},
   "outputs": [
    {
     "name": "stdout",
     "output_type": "stream",
     "text": [
      "《流浪地球2》是由郭帆执导的科幻灾难电影，于2023年上映，故事围绕《流浪地球》\n",
      "前作展开，以计划建造1万座行星发动机的时代为背景。\n",
      "在不远的未来，太阳急速衰老膨胀，即将吞噬太阳系，地球面临灭顶之灾。为应对危机，地\n",
      "球各国成立联合政府，提出数百个自救计划，其中“移山计划”“方舟计划”“逐月计划”\n",
      "和“数字生命计划”进入论证阶段。“移山计划”由中国提出，旨在建造1万座行星\n",
      "发动机推动地球前往新家园；“方舟计划”是美国提议的在地球同步轨道建立空间站以带\n",
      "领人类逃离；“逐月计划”由俄罗斯提出，想改造月球为逃生舱，后因月球结构等问题并\n",
      "入“移山计划”；“数字生命计划”则是将人类意识数字化，实现永生，但最终被伦理委\n",
      "员会禁止。经过考量，“移山计划”被选定，人类开始着手建造行星发动机，同时准备建\n",
      "造卫星发动机以放逐月球，摆脱月球引力。\n",
      "然而，计划推进过程中危机四伏。2044年，太空电梯基地遭遇危机，处在9万公里高度\n",
      "的方舟空间站爆炸坠落，引发连锁反应，导致太空电梯基地被摧毁，流浪地球计划面临重大\n",
      "挑战。影片中，满腔赤诚的刘培强（吴京饰）历经层层考验成为航天员大队的一员，他与韩\n",
      "朵朵（王智饰）在此过程中相知相恋，而刘培强也在后续故事中为了地球和家人，不断经历\n",
      "着艰难抉择与挑战。\n",
      "另一边，量子科学家图恒宇（刘德华饰）则与“数字生命计划”紧密相关。他致力于将女\n",
      "儿图丫丫的意识数字化，即使该计划被禁止，他也未放弃。在一系列意外后，图恒宇自己也\n",
      "意外进入数字世界，以一种特殊的方式继续参与到拯救地球的行动中，他在数字空间中的经\n",
      "历，也为影片增添了一层神秘的“元宇宙”色彩。\n",
      "联合政府中国代表周喆直（李雪健饰）则在国际舞台上，为“移山计划”的推进四处奔走，\n",
      "面对各方压力和危机，他始终坚定信念，相信人类能够团结起来拯救地球，展现出了强大的\n",
      "责任感与使命感。\n",
      "随着故事发展，月球发动机建造完成，但却因未知原因被启动，月球开始向地球逼近，引发\n",
      "了全球性的灾难，地震、海啸等灾害频发，人类再次面临生死考验。为了阻止月球撞击地球，\n",
      "人类决定启动行星发动机，利用其推力将月球推离。在这一过程中，无数普通人与主角们一\n",
      "起，克服了重重困难，最终成功放逐月球，为地球开启流浪之旅奠定了基础。\n",
      "《流浪地球2》通过展现刘培强、图恒宇、周喆直等众多角色的经历，以及全球人类在末\n",
      "日危机下的挣扎与抗争，呈现了一个宏大而震撼的科幻世界，探讨了人类面对绝境时的生存\n",
      "选择、亲情、责任与勇气等主题，传达出“人类命运共同体”理念和“没有人的文明，\n",
      "毫无意义”的深刻内涵，以其壮观的视效和动人的情节，成为中国科幻电影的重要代表作。\n",
      "1096\n"
     ]
    }
   ],
   "source": [
    "### 1、文档加载\n",
    "import PyPDF2\n",
    "\n",
    "def read_pdf(file_path: str) -> str:\n",
    "    \"\"\"\n",
    "    读取PDF文件内容\n",
    "    \n",
    "    参数:\n",
    "        file_path: PDF文件路径\n",
    "        \n",
    "    返回:\n",
    "        PDF文件中的文本内容\n",
    "    \"\"\"\n",
    "    try:\n",
    "        with open(file_path, 'rb') as file:\n",
    "            reader = PyPDF2.PdfReader(file)\n",
    "            text = \"\"\n",
    "            for page in reader.pages:\n",
    "                text += page.extract_text()\n",
    "            return text\n",
    "    except Exception as e:\n",
    "        print(f\"读取PDF文件时出错: {e}\")\n",
    "        return \"\"\n",
    "    \n",
    "file_path = \"./liulangdiqiu2.pdf\"\n",
    "print(read_pdf(file_path))\n",
    "print(len(read_pdf(file_path)))"
   ]
  },
  {
   "cell_type": "code",
   "execution_count": 6,
   "id": "7848b848",
   "metadata": {},
   "outputs": [
    {
     "data": {
      "text/plain": [
       "['《流浪地球2》是由郭帆执导的科幻灾难电影，于2023年上映，故事围绕《流浪地球》\\n前作展开，以计划建造1万座行星发动机的时代为背景\\n在不远的未来，太阳急速衰老膨胀，即将吞噬太阳系，地球面临灭顶之灾为应对危机，地\\n球各国成立联合政府，提出数百个自救计划，其中“移山计划”“方舟计划”“逐月计划”\\n和“数字生命计划”进入论证阶段',\n",
       " '“移山计划”由中国提出，旨在建造1万座行星\\n发动机推动地球前往新家园；“方舟计划”是美国提议的在地球同步轨道建立空间站以带\\n领人类逃离；“逐月计划”由俄罗斯提出，想改造月球为逃生舱，后因月球结构等问题并\\n入“移山计划”；“数字生命计划”则是将人类意识数字化，实现永生，但最终被伦理委\\n员会禁止经过考量，“移山计划”被选定，人类开始着手建造行星发动机，同时准备建\\n造卫星发动机以放逐月球，摆脱月球引力',\n",
       " '\\n然而，计划推进过程中危机四伏2044年，太空电梯基地遭遇危机，处在9万公里高度\\n的方舟空间站爆炸坠落，引发连锁反应，导致太空电梯基地被摧毁，流浪地球计划面临重大\\n挑战影片中，满腔赤诚的刘培强（吴京饰）历经层层考验成为航天员大队的一员，他与韩\\n朵朵（王智饰）在此过程中相知相恋，而刘培强也在后续故事中为了地球和家人，不断经历\\n着艰难抉择与挑战',\n",
       " '\\n另一边，量子科学家图恒宇（刘德华饰）则与“数字生命计划”紧密相关他致力于将女\\n儿图丫丫的意识数字化，即使该计划被禁止，他也未放弃在一系列意外后，图恒宇自己也\\n意外进入数字世界，以一种特殊的方式继续参与到拯救地球的行动中，他在数字空间中的经\\n历，也为影片增添了一层神秘的“元宇宙”色彩',\n",
       " '\\n联合政府中国代表周喆直（李雪健饰）则在国际舞台上，为“移山计划”的推进四处奔走，\\n面对各方压力和危机，他始终坚定信念，相信人类能够团结起来拯救地球，展现出了强大的\\n责任感与使命感\\n随着故事发展，月球发动机建造完成，但却因未知原因被启动，月球开始向地球逼近，引发\\n了全球性的灾难，地震、海啸等灾害频发，人类再次面临生死考验为了阻止月球撞击地球，\\n人类决定启动行星发动机，利用其推力将月球推离',\n",
       " '在这一过程中，无数普通人与主角们一\\n起，克服了重重困难，最终成功放逐月球，为地球开启流浪之旅奠定了基础',\n",
       " '\\n《流浪地球2》通过展现刘培强、图恒宇、周喆直等众多角色的经历，以及全球人类在末\\n日危机下的挣扎与抗争，呈现了一个宏大而震撼的科幻世界，探讨了人类面对绝境时的生存\\n选择、亲情、责任与勇气等主题，传达出“人类命运共同体”理念和“没有人的文明，\\n毫无意义”的深刻内涵，以其壮观的视效和动人的情节，成为中国科幻电影的重要代表作']"
      ]
     },
     "execution_count": 6,
     "metadata": {},
     "output_type": "execute_result"
    }
   ],
   "source": [
    "### 2、文本分割分块\n",
    "from typing import List, Tuple, Dict\n",
    "import re\n",
    "\n",
    "def split_pdf(text, max_len=200):\n",
    "    # 按句子优先分割\n",
    "    chunks = re.split(r'[。！？]', text)\n",
    "    # 合并短句到200字以内\n",
    "    result, buf = [], \"\"\n",
    "    for s in chunks:\n",
    "        if len(buf + s) <= max_len:\n",
    "            buf += s\n",
    "        else:\n",
    "            if buf: result.append(buf)\n",
    "            buf = s\n",
    "    if buf: result.append(buf)\n",
    "    return result\n",
    "\n",
    "chunks = split_pdf(read_pdf(file_path), max_len=200)\n",
    "chunks"
   ]
  },
  {
   "cell_type": "code",
   "execution_count": 1,
   "id": "8a465158",
   "metadata": {},
   "outputs": [
    {
     "name": "stderr",
     "output_type": "stream",
     "text": [
      "/home/lixinyu/miniconda3/envs/prompt/lib/python3.10/site-packages/requests/__init__.py:86: RequestsDependencyWarning: Unable to find acceptable character detection dependency (chardet or charset_normalizer).\n",
      "  warnings.warn(\n",
      "/home/lixinyu/miniconda3/envs/prompt/lib/python3.10/site-packages/tqdm/auto.py:21: TqdmWarning: IProgress not found. Please update jupyter and ipywidgets. See https://ipywidgets.readthedocs.io/en/stable/user_install.html\n",
      "  from .autonotebook import tqdm as notebook_tqdm\n"
     ]
    }
   ],
   "source": [
    "### 3、embedding\n",
    "from sentence_transformers import SentenceTransformer\n",
    "\n",
    "embedding_model_path = \"/home/lixinyu/weights/Qwen3-Embedding-0.6B\"\n",
    "embedding_model = SentenceTransformer(embedding_model_path)"
   ]
  },
  {
   "cell_type": "code",
   "execution_count": 10,
   "id": "da06a6f3",
   "metadata": {},
   "outputs": [
    {
     "name": "stdout",
     "output_type": "stream",
     "text": [
      "(2, 1024)\n",
      "tensor([[0.7646, 0.7851],\n",
      "        [0.8339, 0.7323]])\n"
     ]
    }
   ],
   "source": [
    "queries = [\n",
    "    \"What is the capital of China?\",\n",
    "    \"The capital of China is Beijing.\",\n",
    "\n",
    "]\n",
    "documents = [\n",
    "  \"The capital of China is Beijing.\",\n",
    "  \"What is the capital of China?\",\n",
    "  ]\n",
    "\n",
    "query_embeddings = embedding_model.encode(queries, prompt_name=\"query\")\n",
    "document_embeddings = embedding_model.encode(documents)\n",
    "print(query_embeddings.shape)\n",
    "similarity = embedding_model.similarity(query_embeddings, document_embeddings)\n",
    "print(similarity)"
   ]
  },
  {
   "cell_type": "code",
   "execution_count": 22,
   "id": "10555039",
   "metadata": {},
   "outputs": [
    {
     "name": "stdout",
     "output_type": "stream",
     "text": [
      "(7, 1024)\n",
      "tensor([[0.3049, 0.5723, 0.2594, 0.5323, 0.3495, 0.2657, 0.1746]])\n",
      "[[ 0.00891668 -0.01762075 -0.01036646 ... -0.08403418  0.01742308\n",
      "   0.02130047]\n",
      " [ 0.02119874 -0.01577233 -0.01156385 ... -0.01115059  0.00554845\n",
      "   0.01665588]\n",
      " [ 0.09470636  0.01157483 -0.01174384 ... -0.02367868  0.02360488\n",
      "   0.0048494 ]\n",
      " ...\n",
      " [ 0.05936852  0.00221355 -0.01172859 ... -0.02255914  0.01159022\n",
      "  -0.01121389]\n",
      " [ 0.03398024 -0.01341954 -0.0115754  ... -0.01548578 -0.04122541\n",
      "  -0.0325289 ]\n",
      " [ 0.03194692 -0.03096953 -0.00551068 ... -0.05707911  0.00820924\n",
      "   0.02514409]]\n"
     ]
    }
   ],
   "source": [
    "embedding_pdf = embedding_model.encode(chunks, prompt_name=\"document\")\n",
    "\n",
    "example1=[\"“数字生命计划”由谁提出？\"]\n",
    "example2=embedding_pdf\n",
    "print(example2.shape)\n",
    "example1 = embedding_model.encode(example1, prompt_name=\"query\")\n",
    "similarity = embedding_model.similarity(example1, example2)\n",
    "print(similarity)\n",
    "\n",
    "print(embedding_pdf)"
   ]
  },
  {
   "cell_type": "code",
   "execution_count": 25,
   "id": "708b552f",
   "metadata": {},
   "outputs": [
    {
     "name": "stdout",
     "output_type": "stream",
     "text": [
      "向量1: [ 0.02119874 -0.01577233 -0.01156385 ... -0.01115059  0.00554845\n",
      "  0.01665588], 元数据: {'index': 1, 'chunk': '“移山计划”由中国提出，旨在建造1万座行星\\n发动机推动地球前往新家园；“方舟计划”是美国提议的在地球同步轨道建立空间站以带\\n领人类逃离；“逐月计划”由俄罗斯提出，想改造月球为逃生舱，后因月球结构等问题并\\n入“移山计划”；“数字生命计划”则是将人类意识数字化，实现永生，但最终被伦理委\\n员会禁止经过考量，“移山计划”被选定，人类开始着手建造行星发动机，同时准备建\\n造卫星发动机以放逐月球，摆脱月球引力'}\n",
      "存储的向量数量: 7\n"
     ]
    }
   ],
   "source": [
    "### 4、存入向量数据库\n",
    "vb= VectorStorage()\n",
    "for i,emb in enumerate(embedding_pdf):\n",
    "    vb.add(emb, {\"index\": i, \"chunk\": chunks[i]})\n",
    "\n",
    "# 获取向量\n",
    "vector1, meta1 = vb.get(1)\n",
    "print(f\"向量1: {vector1}, 元数据: {meta1}\")\n",
    "\n",
    "# 获取向量数量\n",
    "print(f\"存储的向量数量: {len(vb)}\")"
   ]
  },
  {
   "cell_type": "code",
   "execution_count": 29,
   "id": "ab07e241",
   "metadata": {},
   "outputs": [
    {
     "name": "stdout",
     "output_type": "stream",
     "text": [
      "tensor([[0.2921, 0.5227, 0.2679, 0.5337, 0.3160, 0.2771, 0.1876]])\n"
     ]
    }
   ],
   "source": [
    "### 5、检索向量数据库\n",
    "query = \"“数字生命计划”的内容是什么？\"\n",
    "query_vector = embedding_model.encode([query], prompt_name=\"query\")\n",
    "\n",
    "similarity = embedding_model.similarity(query_vector, embedding_pdf)\n",
    "print(similarity)"
   ]
  },
  {
   "cell_type": "code",
   "execution_count": null,
   "id": "2f0de23c",
   "metadata": {},
   "outputs": [],
   "source": []
  },
  {
   "cell_type": "markdown",
   "id": "e7147b53",
   "metadata": {},
   "source": [
    "# 整理代码"
   ]
  },
  {
   "cell_type": "code",
   "execution_count": 1,
   "id": "4de71714",
   "metadata": {},
   "outputs": [
    {
     "name": "stderr",
     "output_type": "stream",
     "text": [
      "/home/lixinyu/miniconda3/envs/prompt/lib/python3.10/site-packages/requests/__init__.py:86: RequestsDependencyWarning: Unable to find acceptable character detection dependency (chardet or charset_normalizer).\n",
      "  warnings.warn(\n",
      "/home/lixinyu/miniconda3/envs/prompt/lib/python3.10/site-packages/tqdm/auto.py:21: TqdmWarning: IProgress not found. Please update jupyter and ipywidgets. See https://ipywidgets.readthedocs.io/en/stable/user_install.html\n",
      "  from .autonotebook import tqdm as notebook_tqdm\n"
     ]
    }
   ],
   "source": [
    "### 1、加载embedding模型\n",
    "from sentence_transformers import SentenceTransformer\n",
    "\n",
    "embedding_model_path = \"/home/lixinyu/weights/Qwen3-Embedding-0.6B\"\n",
    "embedding_model = SentenceTransformer(embedding_model_path)"
   ]
  },
  {
   "cell_type": "code",
   "execution_count": 41,
   "id": "fc621e88",
   "metadata": {},
   "outputs": [],
   "source": [
    "### 2、构建向量数据库\n",
    "import numpy as np\n",
    "from typing import List, Dict, Optional\n",
    "\n",
    "class VectorStorage:\n",
    "    \"\"\"简单向量存储类，仅负责向量的存储功能\"\"\"\n",
    "    \n",
    "    def __init__(self):\n",
    "        \"\"\"初始化向量存储\"\"\"\n",
    "        self.vectors = []  # 存储向量\n",
    "        self.metadata = []  # 存储向量对应的元数据\n",
    "        self.dim = None  # 向量维度\n",
    "    \n",
    "    def add(self, vector: List[float], metadata: Optional[Dict] = None) -> int:\n",
    "        \"\"\"\n",
    "        添加向量到存储\n",
    "        \n",
    "        参数:\n",
    "            vector: 要添加的向量\n",
    "            metadata: 向量相关的元数据\n",
    "            \n",
    "        返回:\n",
    "            向量在存储中的索引\n",
    "        \"\"\"\n",
    "        \n",
    "        # 检查向量维度\n",
    "        if self.dim is None:\n",
    "            self.dim = len(vector)\n",
    "        elif len(vector) != self.dim:\n",
    "            raise ValueError(f\"向量维度必须为{self.dim}\")\n",
    "        \n",
    "        # 保存向量和元数据\n",
    "        self.vectors.append(vector)\n",
    "        self.metadata.append(metadata or {})\n",
    "        \n",
    "        # 返回向量索引\n",
    "        return len(self.vectors) - 1\n",
    "    \n",
    "    def get(self, index: int) -> tuple[np.ndarray, dict]:\n",
    "        \"\"\"\n",
    "        获取指定索引的向量和元数据\n",
    "        \n",
    "        参数:\n",
    "            index: 向量索引\n",
    "            \n",
    "        返回:\n",
    "            元组 (向量, 元数据)\n",
    "        \"\"\"\n",
    "        if 0 <= index < len(self.vectors):\n",
    "            return self.vectors[index], self.metadata[index]\n",
    "        raise IndexError(\"索引超出范围\")\n",
    "    def search(self, query: str, k: int = 2) -> List[tuple[int, float, dict]]:\n",
    "        \"\"\"        搜索最相似的向量\n",
    "        参数:\n",
    "            query_vector: 查询向量\n",
    "            k: 返回的相似向量数量\n",
    "        返回:\n",
    "            包含元组的列表，每个元组格式为 (索引, 相似度, 元数据)\n",
    "        \"\"\"\n",
    "        # 输入的文本转换成向量格式\n",
    "        query_vector = embedding_model.encode([query], prompt_name=\"query\")\n",
    "\n",
    "        # 计算相似度\n",
    "        similarities = embedding_model.similarity(query_vector, self.vectors)\n",
    "        similarities = similarities.squeeze()\n",
    "        \n",
    "        # 限制 k 值不超过向量总数\n",
    "        k = min(k, len(self.vectors))\n",
    "        \n",
    "        # 获取最相似的 k 个向量的索引（使用 PyTorch 方法）\n",
    "        top_k_values, top_k_indices = similarities.topk(k, largest=True)\n",
    "        \n",
    "        # 返回结果（将张量转换为 Python 列表）\n",
    "        return [\n",
    "        (top_k_indices[i].item(), top_k_values[i].item(), self.metadata[top_k_indices[i].item()])\n",
    "        for i in range(k)\n",
    "        ]\n",
    "\n",
    "    def __len__(self) -> int:\n",
    "        \"\"\"返回存储中向量的数量\"\"\"\n",
    "        return len(self.vectors)"
   ]
  },
  {
   "cell_type": "code",
   "execution_count": 4,
   "id": "bc377321",
   "metadata": {},
   "outputs": [
    {
     "data": {
      "text/plain": [
       "['《流浪地球2》是由郭帆执导的科幻灾难电影，于2023年上映，故事围绕《流浪地球》\\n前作展开，以计划建造1万座行星发动机的时代为背景\\n在不远的未来，太阳急速衰老膨胀，即将吞噬太阳系，地球面临灭顶之灾为应对危机，地\\n球各国成立联合政府，提出数百个自救计划，其中“移山计划”“方舟计划”“逐月计划”\\n和“数字生命计划”进入论证阶段',\n",
       " '“移山计划”由中国提出，旨在建造1万座行星\\n发动机推动地球前往新家园；“方舟计划”是美国提议的在地球同步轨道建立空间站以带\\n领人类逃离；“逐月计划”由俄罗斯提出，想改造月球为逃生舱，后因月球结构等问题并\\n入“移山计划”；“数字生命计划”则是将人类意识数字化，实现永生，但最终被伦理委\\n员会禁止经过考量，“移山计划”被选定，人类开始着手建造行星发动机，同时准备建\\n造卫星发动机以放逐月球，摆脱月球引力',\n",
       " '\\n然而，计划推进过程中危机四伏2044年，太空电梯基地遭遇危机，处在9万公里高度\\n的方舟空间站爆炸坠落，引发连锁反应，导致太空电梯基地被摧毁，流浪地球计划面临重大\\n挑战影片中，满腔赤诚的刘培强（吴京饰）历经层层考验成为航天员大队的一员，他与韩\\n朵朵（王智饰）在此过程中相知相恋，而刘培强也在后续故事中为了地球和家人，不断经历\\n着艰难抉择与挑战',\n",
       " '\\n另一边，量子科学家图恒宇（刘德华饰）则与“数字生命计划”紧密相关他致力于将女\\n儿图丫丫的意识数字化，即使该计划被禁止，他也未放弃在一系列意外后，图恒宇自己也\\n意外进入数字世界，以一种特殊的方式继续参与到拯救地球的行动中，他在数字空间中的经\\n历，也为影片增添了一层神秘的“元宇宙”色彩',\n",
       " '\\n联合政府中国代表周喆直（李雪健饰）则在国际舞台上，为“移山计划”的推进四处奔走，\\n面对各方压力和危机，他始终坚定信念，相信人类能够团结起来拯救地球，展现出了强大的\\n责任感与使命感\\n随着故事发展，月球发动机建造完成，但却因未知原因被启动，月球开始向地球逼近，引发\\n了全球性的灾难，地震、海啸等灾害频发，人类再次面临生死考验为了阻止月球撞击地球，\\n人类决定启动行星发动机，利用其推力将月球推离',\n",
       " '在这一过程中，无数普通人与主角们一\\n起，克服了重重困难，最终成功放逐月球，为地球开启流浪之旅奠定了基础',\n",
       " '\\n《流浪地球2》通过展现刘培强、图恒宇、周喆直等众多角色的经历，以及全球人类在末\\n日危机下的挣扎与抗争，呈现了一个宏大而震撼的科幻世界，探讨了人类面对绝境时的生存\\n选择、亲情、责任与勇气等主题，传达出“人类命运共同体”理念和“没有人的文明，\\n毫无意义”的深刻内涵，以其壮观的视效和动人的情节，成为中国科幻电影的重要代表作']"
      ]
     },
     "execution_count": 4,
     "metadata": {},
     "output_type": "execute_result"
    }
   ],
   "source": [
    "### 3、文档加载和分块\n",
    "import PyPDF2\n",
    "from typing import List, Tuple, Dict\n",
    "import re\n",
    "\n",
    "def read_pdf(file_path: str) -> str:\n",
    "    \"\"\"\n",
    "    读取PDF文件内容\n",
    "    \n",
    "    参数:\n",
    "        file_path: PDF文件路径\n",
    "        \n",
    "    返回:\n",
    "        PDF文件中的文本内容\n",
    "    \"\"\"\n",
    "    try:\n",
    "        with open(file_path, 'rb') as file:\n",
    "            reader = PyPDF2.PdfReader(file)\n",
    "            text = \"\"\n",
    "            for page in reader.pages:\n",
    "                text += page.extract_text()\n",
    "            return text\n",
    "    except Exception as e:\n",
    "        print(f\"读取PDF文件时出错: {e}\")\n",
    "        return \"\"\n",
    "\n",
    "def split_pdf(text, max_len=200):\n",
    "    # 按句子优先分割\n",
    "    chunks = re.split(r'[。！？]', text)\n",
    "    # 合并短句到200字以内\n",
    "    result, buf = [], \"\"\n",
    "    for s in chunks:\n",
    "        if len(buf + s) <= max_len:\n",
    "            buf += s\n",
    "        else:\n",
    "            if buf: result.append(buf)\n",
    "            buf = s\n",
    "    if buf: result.append(buf)\n",
    "    return result\n",
    "\n",
    "file_path = \"./liulangdiqiu2.pdf\"\n",
    "chunks = split_pdf(read_pdf(file_path), max_len=200)\n",
    "chunks"
   ]
  },
  {
   "cell_type": "code",
   "execution_count": null,
   "id": "fe84f955",
   "metadata": {},
   "outputs": [
    {
     "name": "stdout",
     "output_type": "stream",
     "text": [
      "存储的向量数量: 7\n",
      "[ 0.00891668 -0.01762075 -0.01036646 ... -0.08403418  0.01742308\n",
      "  0.02130047]\n"
     ]
    }
   ],
   "source": [
    "### 4、载入向量数据库\n",
    "vb = VectorStorage()\n",
    "\n",
    "embedding_pdf = embedding_model.encode(chunks, prompt_name=\"document\")\n",
    "\n",
    "for i,emb in enumerate(embedding_pdf):\n",
    "    vb.add(emb, {\"index\": i, \"chunk\": chunks[i]})\n",
    "\n",
    "# 获取向量数量\n",
    "print(f\"存储的向量数量: {len(vb)}\")\n"
   ]
  },
  {
   "cell_type": "code",
   "execution_count": 37,
   "id": "f791dff1",
   "metadata": {},
   "outputs": [
    {
     "name": "stdout",
     "output_type": "stream",
     "text": [
      "tensor([[0.5337, 0.5227, 0.3160]])\n",
      "tensor([[3, 1, 4]])\n"
     ]
    }
   ],
   "source": [
    "import torch\n",
    "similarities = [[0.2921, 0.5227, 0.2679, 0.5337, 0.3160, 0.2771, 0.1876]]\n",
    "similarities = torch.tensor(similarities)\n",
    "a,b=similarities.topk(3, largest=True)\n",
    "print(a)\n",
    "print(b)"
   ]
  },
  {
   "cell_type": "code",
   "execution_count": 66,
   "id": "933ac8a2",
   "metadata": {},
   "outputs": [
    {
     "name": "stdout",
     "output_type": "stream",
     "text": [
      "[(0, 0.3406886160373688, {'index': 0, 'chunk': '《流浪地球2》是由郭帆执导的科幻灾难电影，于2023年上映，故事围绕《流浪地球》\\n前作展开，以计划建造1万座行星发动机的时代为背景\\n在不远的未来，太阳急速衰老膨胀，即将吞噬太阳系，地球面临灭顶之灾为应对危机，地\\n球各国成立联合政府，提出数百个自救计划，其中“移山计划”“方舟计划”“逐月计划”\\n和“数字生命计划”进入论证阶段'}), (3, 0.31884729862213135, {'index': 3, 'chunk': '\\n另一边，量子科学家图恒宇（刘德华饰）则与“数字生命计划”紧密相关他致力于将女\\n儿图丫丫的意识数字化，即使该计划被禁止，他也未放弃在一系列意外后，图恒宇自己也\\n意外进入数字世界，以一种特殊的方式继续参与到拯救地球的行动中，他在数字空间中的经\\n历，也为影片增添了一层神秘的“元宇宙”色彩'})]\n"
     ]
    }
   ],
   "source": [
    "### 5、检索向量数据库\n",
    "query=\"《黑客帝国》是由谁导演的？\"\n",
    "\n",
    "results = vb.search(query, k=2)\n",
    "print(results)\n"
   ]
  },
  {
   "cell_type": "code",
   "execution_count": 67,
   "id": "5eb24d91",
   "metadata": {},
   "outputs": [
    {
     "name": "stdout",
     "output_type": "stream",
     "text": [
      "\n",
      "你是一个非常专业的AI智能助手，请你根据下面的“问题”，结合给出的“文本”内容，生成合理的回答，如果文本中没有相关内容，请回答“无法回答”。\n",
      "问题: 《黑客帝国》是由谁导演的？\n",
      "文本: 1. 《流浪地球2》是由郭帆执导的科幻灾难电影，于2023年上映，故事围绕《流浪地球》\n",
      "前作展开，以计划建造1万座行星发动机的时代为背景\n",
      "在不远的未来，太阳急速衰老膨胀，即将吞噬太阳系，地球面临灭顶之灾为应对危机，地\n",
      "球各国成立联合政府，提出数百个自救计划，其中“移山计划”“方舟计划”“逐月计划”\n",
      "和“数字生命计划”进入论证阶段\n",
      "2. \n",
      "另一边，量子科学家图恒宇（刘德华饰）则与“数字生命计划”紧密相关他致力于将女\n",
      "儿图丫丫的意识数字化，即使该计划被禁止，他也未放弃在一系列意外后，图恒宇自己也\n",
      "意外进入数字世界，以一种特殊的方式继续参与到拯救地球的行动中，他在数字空间中的经\n",
      "历，也为影片增添了一层神秘的“元宇宙”色彩\n",
      "回答:\n",
      "\n"
     ]
    }
   ],
   "source": [
    "### 6、提示词增强\n",
    "query=query\n",
    "context = \"\\n\".join([f\"{i+1}. {result[2]['chunk']}\" for i, result in enumerate(results)])\n",
    "\n",
    "prompt=f\"\"\"\n",
    "你是一个非常专业的AI智能助手，请你根据下面的“问题”，结合给出的“文本”内容，生成合理的回答，如果文本中没有相关内容，请回答“无法回答”。\n",
    "问题: {query}\n",
    "文本: {context}\n",
    "回答:\n",
    "\"\"\"\n",
    "\n",
    "print(prompt.format(query=query, context=context))"
   ]
  },
  {
   "cell_type": "code",
   "execution_count": 56,
   "id": "09c053c2",
   "metadata": {},
   "outputs": [
    {
     "name": "stderr",
     "output_type": "stream",
     "text": [
      "Loading checkpoint shards: 100%|██████████| 2/2 [00:01<00:00,  1.32it/s]\n"
     ]
    }
   ],
   "source": [
    "### 7、执行提示词\n",
    "from modelscope import AutoModelForCausalLM, AutoTokenizer\n",
    "\n",
    "model_name_or_path = '/home/lixinyu/weights/Qwen2.5-3B-Instruct'  # 替换为你下载的模型路径\n",
    "tokenizer = AutoTokenizer.from_pretrained(model_name_or_path)\n",
    "model = AutoModelForCausalLM.from_pretrained(model_name_or_path,device_map='cuda:1', torch_dtype='auto')"
   ]
  },
  {
   "cell_type": "code",
   "execution_count": 65,
   "id": "66fa793b",
   "metadata": {},
   "outputs": [
    {
     "name": "stdout",
     "output_type": "stream",
     "text": [
      "《流浪地球2》是由郭帆执导的。\n"
     ]
    }
   ],
   "source": [
    "### 推理代码\n",
    "messages = [\n",
    "    {\"role\": \"user\", \"content\": prompt}\n",
    "]\n",
    "text = tokenizer.apply_chat_template(\n",
    "    messages,\n",
    "    tokenize=False,\n",
    "    add_generation_prompt=True\n",
    ")\n",
    "\n",
    "model_inputs = tokenizer([text], return_tensors=\"pt\").to(model.device)\n",
    "\n",
    "generated_ids = model.generate(\n",
    "    **model_inputs,\n",
    "    max_new_tokens=512,\n",
    ")\n",
    "generated_ids = [\n",
    "    output_ids[len(input_ids):] for input_ids, output_ids in zip(model_inputs.input_ids, generated_ids)\n",
    "]\n",
    "\n",
    "response = tokenizer.batch_decode(generated_ids, skip_special_tokens=True)[0]\n",
    "print(response)"
   ]
  },
  {
   "cell_type": "code",
   "execution_count": null,
   "id": "ccf1bf0f",
   "metadata": {},
   "outputs": [],
   "source": []
  }
 ],
 "metadata": {
  "kernelspec": {
   "display_name": "prompt",
   "language": "python",
   "name": "python3"
  },
  "language_info": {
   "codemirror_mode": {
    "name": "ipython",
    "version": 3
   },
   "file_extension": ".py",
   "mimetype": "text/x-python",
   "name": "python",
   "nbconvert_exporter": "python",
   "pygments_lexer": "ipython3",
   "version": "3.10.18"
  }
 },
 "nbformat": 4,
 "nbformat_minor": 5
}
