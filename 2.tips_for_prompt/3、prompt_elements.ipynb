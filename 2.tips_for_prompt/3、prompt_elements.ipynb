{
 "cells": [
  {
   "cell_type": "markdown",
   "id": "11540e20",
   "metadata": {},
   "source": [
    "# 提示词要素\n",
    "提示词（Prompt）是向大语言模型传递任务指令的文本，其设计质量直接影响模型输出的效果，提示词，尤其是指令的构建需要注意一些核心要素，掌握了这些核心要素，大模型就能够不经过微调训练等得到符合预期的回复。\n",
    "\n",
    "分别有下面的要素\n",
    "1. 明确任务类型\n",
    "2. 明确任务目标\n",
    "3. 提供上下文信息\n",
    "4. 结构化提示词\n",
    "5. 复杂任务拆解"
   ]
  },
  {
   "cell_type": "code",
   "execution_count": 3,
   "id": "14ce7a14",
   "metadata": {},
   "outputs": [
    {
     "name": "stderr",
     "output_type": "stream",
     "text": [
      "Loading checkpoint shards: 100%|██████████| 2/2 [00:00<00:00,  2.19it/s]\n"
     ]
    }
   ],
   "source": [
    "### 加载模型：Qwen2.5-0.5B-Instruct模型\n",
    "from transformers import AutoTokenizer, AutoModelForCausalLM\n",
    "\n",
    "model_name_or_path = '/your/path/of/Qwen2.5-3B-Instruct'  # 替换为你下载的模型路径\n",
    "tokenizer = AutoTokenizer.from_pretrained(model_name_or_path)\n",
    "model = AutoModelForCausalLM.from_pretrained(model_name_or_path,device_map='auto', torch_dtype='auto')"
   ]
  },
  {
   "cell_type": "code",
   "execution_count": 4,
   "id": "4a88e991",
   "metadata": {},
   "outputs": [],
   "source": [
    "# 推理函数\n",
    "def inference(model,tokenizer,prompt,system=\"你是一个专业的人工智能助手\",max_new_tokens=512,temperature=0.9):\n",
    "    messages = [\n",
    "        {\"role\": \"system\", \"content\": system},\n",
    "        {\"role\": \"user\", \"content\": prompt}\n",
    "    ]\n",
    "    text = tokenizer.apply_chat_template(\n",
    "        messages,\n",
    "        tokenize=False,\n",
    "        add_generation_prompt=True\n",
    "    )\n",
    "\n",
    "    model_inputs = tokenizer([text], return_tensors=\"pt\").to(model.device)\n",
    "\n",
    "    generated_ids = model.generate(\n",
    "        **model_inputs,\n",
    "        max_new_tokens=max_new_tokens,\n",
    "        temperature=temperature,\n",
    "        do_sample=True,\n",
    "    )\n",
    "    # 提取仅由模型生成的token ids（排除输入部分）\n",
    "    generated_ids = [\n",
    "        output_ids[len(input_ids):] for input_ids, output_ids in zip(model_inputs.input_ids, generated_ids)\n",
    "    ]\n",
    "    # 统计生成的tokens数量（直接取生成序列的长度）\n",
    "    generated_tokens_count = len(generated_ids[0])  # 因输入是单条，取第一个元素的长度\n",
    "    # 解码生成的token ids为文本\n",
    "    response = tokenizer.batch_decode(generated_ids, skip_special_tokens=True)[0]\n",
    "    \n",
    "    # 返回响应文本和生成的tokens数量\n",
    "    return {\n",
    "        \"response\":response,\n",
    "        \"generated_tokens_count\":generated_tokens_count\n",
    "    }"
   ]
  },
  {
   "cell_type": "markdown",
   "id": "18e38628",
   "metadata": {},
   "source": [
    "## 1. 明确任务类型\n",
    "\n",
    "要非常具体地说明你希望模型执行的指令和任务。提示越具描述性和详细，结果越好。特别是当你对生成的结果或风格有要求时，这一点尤为重要。\n",
    "\n",
    "任务类型有文本翻译、指令问答、多轮对话、文本摘要、文本分类、文本生成等。\n",
    "\n",
    "我们举一个简单的文本翻译的例子。"
   ]
  },
  {
   "cell_type": "code",
   "execution_count": 9,
   "id": "5c7acbe3",
   "metadata": {},
   "outputs": [],
   "source": [
    "prompt_1=\"\"\"\n",
    "请将下面的话翻译成英文：\n",
    "\n",
    "输入：\n",
    "大模型是参数量很大，功能很强，但是推理速度慢，成本高。\n",
    "\n",
    "输出：\n",
    "\n",
    "\"\"\""
   ]
  },
  {
   "cell_type": "code",
   "execution_count": 10,
   "id": "5fab5f6f",
   "metadata": {},
   "outputs": [
    {
     "name": "stdout",
     "output_type": "stream",
     "text": [
      "{'response': 'Large models have a very large number of parameters, powerful functionality, but slow inference speed and high costs.', 'generated_tokens_count': 22}\n"
     ]
    }
   ],
   "source": [
    "print(inference(model,tokenizer,prompt_1))"
   ]
  },
  {
   "cell_type": "markdown",
   "id": "6f0dc8ce",
   "metadata": {},
   "source": [
    "当然，我们也可以举一个文本分类的例子，我们写一个完整的提示词。"
   ]
  },
  {
   "cell_type": "code",
   "execution_count": 7,
   "id": "ef3ca6ee",
   "metadata": {},
   "outputs": [],
   "source": [
    "prompt_2=\"\"\"\n",
    "\n",
    "请你担任文本情绪分类员，帮我将以下文本按情绪类型分类。分类规则如下：\n",
    "\n",
    "正面情绪：文本表达积极、愉悦、赞赏、满意等正向感受（如 “这部电影太精彩了，我非常喜欢！”）；\n",
    "负面情绪：文本表达消极、不满、厌恶、愤怒等负向感受（如 “这个服务太差劲了，再也不会来了”）；\n",
    "中性情绪：文本不包含明显的情绪倾向，仅陈述事实或客观信息（如 “会议将在下午 3 点开始”）。\n",
    "\n",
    "请对以下文本进行分类，并只输出分类结果（格式：文本内容 + 【分类标签】）：\n",
    "文本 1：今天天气真好，适合出门野餐\n",
    "文本 2：这台机器坏了，修了好几次都没好\n",
    "文本 3：本市明天最高气温 25 摄氏度\n",
    "\"\"\""
   ]
  },
  {
   "cell_type": "code",
   "execution_count": 8,
   "id": "dd2603b9",
   "metadata": {},
   "outputs": [
    {
     "name": "stdout",
     "output_type": "stream",
     "text": [
      "{'response': '文本 1：今天天气真好，适合出门野餐【正面情绪】  \\n文本 2：这台机器坏了，修了好几次都没好【负面情绪】  \\n文本 3：本市明天最高气温 25 摄氏度【中性情绪】', 'generated_tokens_count': 59}\n"
     ]
    }
   ],
   "source": [
    "print(inference(model,tokenizer,prompt_2))"
   ]
  },
  {
   "cell_type": "markdown",
   "id": "01d5cd0b",
   "metadata": {},
   "source": [
    "## 2. 明确任务目标\n",
    "\n",
    "在明确了任务类型，比如是问答类型的话，你可能需要对任务目标加以约束，比如让大模型做什么、不做什么。下面我们举个例子。\n",
    "\n",
    "大模型由于知识广泛，回答问题的时候发散性思维比较强，因此有时候的回答会带有他的分析，比如我们想要计算一个简单的数学问题，并且只想要得到结果的数字，但是简单的提示词可能会有大模型自己的分析，如果对输出格式或者结果有要求，一定要明确表明。"
   ]
  },
  {
   "cell_type": "code",
   "execution_count": 11,
   "id": "167eed34",
   "metadata": {},
   "outputs": [],
   "source": [
    "prompt_3=\"请你计算出3*13的结果\"\n",
    "prompt_4=\"请你计算出3*13的结果，仅输出结果，不要输出任何其他内容。\""
   ]
  },
  {
   "cell_type": "code",
   "execution_count": 12,
   "id": "79bf8085",
   "metadata": {},
   "outputs": [
    {
     "name": "stdout",
     "output_type": "stream",
     "text": [
      "{'response': '3乘以13的结果是39。', 'generated_tokens_count': 11}\n",
      "{'response': '39', 'generated_tokens_count': 3}\n"
     ]
    }
   ],
   "source": [
    "print(inference(model,tokenizer,prompt_3))\n",
    "print(inference(model,tokenizer,prompt_4))"
   ]
  },
  {
   "cell_type": "markdown",
   "id": "0d292992",
   "metadata": {},
   "source": [
    "## 3. 提供上下文信息\n",
    "\n",
    "- 提供充足的文本信息或者背景知识，这点在文本摘要、信息提取任务中尤为重要\n",
    "- 少样本提示的话需要一些例子作为前文信息"
   ]
  },
  {
   "cell_type": "code",
   "execution_count": 17,
   "id": "e3bb791f",
   "metadata": {},
   "outputs": [],
   "source": [
    "prompt_5=\"\"\"\n",
    "请你根据上下文内容，回答输入提出的问题，回答到输出里。\n",
    "上下文：2025年7月8日，国家航天局宣布，嫦娥七号探测器计划于2026年发射，将开展月球南极环境与资源勘查。据悉，嫦娥七号将搭载4台国际合作载荷，包括与欧洲空间局合作的月表负离子分析仪。\n",
    "输入：嫦娥七号的发射时间\n",
    "输出：\n",
    "\"\"\"\n",
    "\n",
    "prompt_6=\"\"\"\n",
    "Q: 苹果公司成立于哪一年？  \n",
    "A: 1976  \n",
    "\n",
    "Q: 爱因斯坦获得诺贝尔物理学奖是在哪一年？  \n",
    "A:\n",
    "\"\"\""
   ]
  },
  {
   "cell_type": "code",
   "execution_count": 18,
   "id": "cc20d2ee",
   "metadata": {},
   "outputs": [
    {
     "name": "stdout",
     "output_type": "stream",
     "text": [
      "{'response': '嫦娥七号计划于2026年发射。', 'generated_tokens_count': 14}\n",
      "{'response': '爱因斯坦获得诺贝尔物理学奖的年份是1921年。', 'generated_tokens_count': 18}\n"
     ]
    }
   ],
   "source": [
    "print(inference(model,tokenizer,prompt_5))\n",
    "print(inference(model,tokenizer,prompt_6))"
   ]
  },
  {
   "cell_type": "markdown",
   "id": "10d7f34f",
   "metadata": {},
   "source": [
    "## 4. 结构化提示词\n",
    "\n",
    "我们在使用提示词的时候往往会直接把文本、问题等一股脑全部输入到大模型的输入中，但是实际上我们可以通过严格控制提示词的格式来提升模型输出的质量，因为结构化的提示词汇更具可控性，尤其是在需要精确格式或复杂任务的场景中。\n",
    "\n",
    "我们通常使用markdown格式来结构化。Markdown 是一种轻量级标记语言，常用于格式化文本（如表格、列表、代码块）。结构化提示词可以使用 Markdown 语法来表达，但核心是 “结构化” 的思想，而非特定语言。"
   ]
  },
  {
   "cell_type": "code",
   "execution_count": 19,
   "id": "0095d506",
   "metadata": {},
   "outputs": [],
   "source": [
    "prompt_7=\"\"\"\n",
    "# 任务：提取电影信息\n",
    "请从以下文本中提取关键信息，按要求填写：\n",
    "\n",
    "## 待分析文本\n",
    "\"电影《流浪地球3》将于2027年春节上映，导演是郭帆，主演包括吴京和刘德华，票房预期50亿。\"\n",
    "\n",
    "## 提取要求\n",
    "- 类型：______\n",
    "- 上映时间：______\n",
    "- 导演：________\n",
    "- 主演：______\n",
    "- 票房预期：______\n",
    "\n",
    "## 输出格式\n",
    "直接填写上述空白，保持列表结构。\n",
    "\"\"\""
   ]
  },
  {
   "cell_type": "code",
   "execution_count": 21,
   "id": "9b73f434",
   "metadata": {},
   "outputs": [
    {
     "name": "stdout",
     "output_type": "stream",
     "text": [
      "{'response': '- 类型：电影\\n- 上映时间：2027年春节\\n- 导演：郭帆\\n- 主演：吴京，刘德华\\n- 票房预期：50亿', 'generated_tokens_count': 48}\n"
     ]
    }
   ],
   "source": [
    "print(inference(model,tokenizer,prompt_7))"
   ]
  },
  {
   "cell_type": "markdown",
   "id": "ce6d896a",
   "metadata": {},
   "source": [
    "## 5. 复杂任务拆解\n",
    "\n",
    "大模型和人类一样，哪怕在现实生活中，如果Leader给你分配了一个比较复杂、内容较多的任务，经验丰富的你大概率会先列出任务细节，也就是大纲，然后对着大纲的每一步进行细化，比如实验步骤、完成时间、分配员工等，细化完后就开始每一步的完成细节了。\n"
   ]
  },
  {
   "cell_type": "code",
   "execution_count": 22,
   "id": "47313342",
   "metadata": {},
   "outputs": [],
   "source": [
    "prompt_8=\"\"\"\n",
    "请你担任任务规划师，帮我把 “3 个月内自学 Python 并完成一个数据分析项目” 这个任务拆解成具体、可操作的步骤。\n",
    "请按照 “阶段划分→核心目标→具体步骤→成果物→难点建议” 的结构输出，确保步骤之间有逻辑衔接，且难度循序渐进。\n",
    "\"\"\""
   ]
  },
  {
   "cell_type": "code",
   "execution_count": 24,
   "id": "ec6f662c",
   "metadata": {},
   "outputs": [
    {
     "name": "stdout",
     "output_type": "stream",
     "text": [
      "{'response': '当然可以。根据您的需求，“3 个月内自学 Python 并完成一个数据分析项目”的任务可以分为以下阶段：\\n\\n### 阶段划分\\n1. **基础知识阶段**（第1-4周）\\n2. **编程技能提升阶段**（第5-8周）\\n3. **项目开发与优化阶段**（第9-12周）\\n\\n### 第一阶段：基础知识阶段（第1-4周）\\n\\n#### 核心目标\\n- 掌握 Python 基础语法和数据类型。\\n- 熟悉常用的 Python 数据库操作库。\\n- 学习基本的数据分析方法和技巧。\\n\\n#### 具体步骤\\n1. **基础语法学习**：\\n   - 安装并配置 Python 开发环境。\\n   - 学习 Python 基本语法、数据类型（如整数、浮点数、字符串等）、变量、条件语句、循环语句等。\\n   - 使用 Python 编写简单的程序，熟悉 IDE（如 PyCharm、Jupyter Notebook）的使用。\\n\\n2. **安装和配置工具**：\\n   - 安装常用的数据处理库（如 NumPy, Pandas, Matplotlib 等）。\\n   - 设置版本控制系统（如 Git），了解基本操作。\\n\\n3. **数据库操作**：\\n   - 学习如何使用 SQLite 或 MySQL 读取、插入、修改、删除数据。\\n   - 使用 Python 连接数据库并执行 SQL 查询。\\n\\n4. **数据清洗和预处理**：\\n   - 学习如何使用 Pandas 处理数据，包括加载数据、数据清理、缺失值处理等。\\n\\n5. **数据分析与可视化**：\\n   - 学习基本的统计方法和可视化工具（如 Matplotlib、Seaborn）。\\n   - 分析示例数据集，进行简单的统计分析和数据可视化。\\n\\n#### 成果物\\n- 基础知识练习题完成情况报告。\\n- 数据库连接和基本数据操作的小项目。\\n- 基本的数据清洗和简单数据分析案例。\\n\\n#### 难点建议\\n- 对于初学者来说，理解 Python 语法和概念可能较为困难。建议多做练习，并通过查阅官方文档和教程加深理解。\\n- 数据库操作可能会遇到一些技术性问题，需要耐心学习和实践。\\n\\n### 第二阶段：编程技能提升阶段（第5-8周）\\n\\n#### 核心目标\\n- 深入掌握 Python 编程技巧。\\n- 提升数据处理和分析能力。\\n- 掌握数据可视化的高级功能。\\n\\n#### 具体步骤\\n1. **进阶编程技巧**：\\n   - 学习函数和模块的编写和使用。\\n   - 掌握异常处理、文件操作等进阶内容。\\n\\n2. **数据处理高级技术**：\\n   - 学习 Pandas 中更复杂的数据处理技巧，如分组聚合、合并等。\\n   - 学习使用多层索引和多维数据结构。\\n\\n3. **高级数据分析**：\\n   - 学习时间序列分析、回归分析等高级统计方法。\\n   - 学习使用 Statsmodels 和 Scikit-Learn 等机器学习库。\\n\\n4. **数据可视化高级功能**：\\n   - 学习使用 Seaborn 进行交互式图表制作。\\n   - 学习使用 Plotly 创建复杂的动态图表。\\n\\n#### 成果物\\n- 用 Python 编写的进阶编程项目。\\n- 数据处理高级功能的实际应用案例。\\n- 复杂的统计分析和数据可视化作品。\\n\\n#### 难点建议\\n- 在进阶编程过程中可能会遇到各种错误和异常，建议多调试代码，查阅官方文档和社区资源。\\n- 高级数据分析和数据可视化的学习需要时间和实践，保持持续的学习态度很重要。\\n\\n### 第三阶段：项目开发与优化阶段（第9-12周）\\n\\n#### 核心目标\\n- 实现一个完整的数据分析项目。\\n- 优化项目代码，提高效率。\\n- 准备项目的展示材料。\\n\\n#### 具体步骤\\n1. **选择项目主题**：\\n   - 根据兴趣和市场需求选择一个具体的项目主题，例如股票预测、用户行为分析等。\\n\\n2. **数据收集和清洗**：\\n   - 收集相关数据，进行初步清洗和预处理。\\n   - 评估数据质量，解决潜在的问题。\\n\\n3. **数据分析和建模**：\\n   - 运用所学的知识对数据进行深入分析。\\n   - 利用合适的模型进行预测或解释性分析。\\n\\n4. **结果可视化和报告撰写**：\\n   - 使用 Matplotlib 和 Plotly 等工具生成高质量的图表。\\n   - 编写清晰易懂的技术报告，介绍整个项目的流程和结果。\\n\\n5. **团队协作和演示准备**：\\n   - 如果是团队项目，则需合理分工，协同合作。\\n   - 准备演示文稿，向潜在客户或导师展示项目成果。\\n\\n#### 成果物\\n- 完整的数据分析项目报告。\\n- 项目源代码。\\n- 高质量的项目演示材料。\\n\\n#### 难点建议\\n- 在项目实施过程中可能会遇到预料之外的问题，保持灵活调整计划。\\n- 报告撰写和演示准备是关键环节，建议提前准备并反复打磨。\\n\\n希望这些步骤能帮助您顺利完成从零到一的自学过程，并在三个月内实现自己的数据分析项目！', 'generated_tokens_count': 1142}\n"
     ]
    }
   ],
   "source": [
    "print(inference(model,tokenizer,prompt_8,max_new_tokens=2048))"
   ]
  },
  {
   "cell_type": "code",
   "execution_count": null,
   "id": "03384551",
   "metadata": {},
   "outputs": [],
   "source": []
  }
 ],
 "metadata": {
  "kernelspec": {
   "display_name": "prompt",
   "language": "python",
   "name": "python3"
  },
  "language_info": {
   "codemirror_mode": {
    "name": "ipython",
    "version": 3
   },
   "file_extension": ".py",
   "mimetype": "text/x-python",
   "name": "python",
   "nbconvert_exporter": "python",
   "pygments_lexer": "ipython3",
   "version": "3.10.13"
  }
 },
 "nbformat": 4,
 "nbformat_minor": 5
}
