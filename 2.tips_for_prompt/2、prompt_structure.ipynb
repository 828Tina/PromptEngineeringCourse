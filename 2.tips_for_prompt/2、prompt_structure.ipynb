{
 "cells": [
  {
   "cell_type": "markdown",
   "id": "76212d07",
   "metadata": {},
   "source": [
    "# 提示词结构\n",
    "通用的提示词里至少包含下面这些部分：\n",
    "- 指令：想要模型执行的特定任务或指令。\n",
    "- 上下文：包含外部信息或额外的上下文信息，引导语言模型更好地响应。\n",
    "- 例子：当用户的问题不明确的时候，可以借助举例让大模型生成类似的结果。\n",
    "- 输入数据：用户输入的内容或问题。\n",
    "- 输出指示：指定输出的类型或格式。"
   ]
  },
  {
   "cell_type": "code",
   "execution_count": null,
   "id": "2323f870",
   "metadata": {},
   "outputs": [
    {
     "name": "stderr",
     "output_type": "stream",
     "text": [
      "/home/lixinyu/miniconda3/envs/prompt/lib/python3.10/site-packages/requests/__init__.py:86: RequestsDependencyWarning: Unable to find acceptable character detection dependency (chardet or charset_normalizer).\n",
      "  warnings.warn(\n",
      "/home/lixinyu/miniconda3/envs/prompt/lib/python3.10/site-packages/tqdm/auto.py:21: TqdmWarning: IProgress not found. Please update jupyter and ipywidgets. See https://ipywidgets.readthedocs.io/en/stable/user_install.html\n",
      "  from .autonotebook import tqdm as notebook_tqdm\n",
      "Loading checkpoint shards: 100%|██████████| 2/2 [00:00<00:00,  2.17it/s]\n"
     ]
    }
   ],
   "source": [
    "### 加载模型：Qwen2.5-0.5B-Instruct模型\n",
    "from transformers import AutoTokenizer, AutoModelForCausalLM\n",
    "\n",
    "model_name_or_path = '/your/path/of/Qwen2.5-3B-Instruct'  # 替换为你下载的模型路径\n",
    "tokenizer = AutoTokenizer.from_pretrained(model_name_or_path)\n",
    "model = AutoModelForCausalLM.from_pretrained(model_name_or_path,device_map='auto', torch_dtype='auto')"
   ]
  },
  {
   "cell_type": "code",
   "execution_count": 2,
   "id": "16a35a18",
   "metadata": {},
   "outputs": [],
   "source": [
    "# 推理函数\n",
    "def inference(model,tokenizer,prompt,system=\"你是一个专业的人工智能助手\",max_new_tokens=512,temperature=0.9):\n",
    "    messages = [\n",
    "        {\"role\": \"system\", \"content\": system},\n",
    "        {\"role\": \"user\", \"content\": prompt}\n",
    "    ]\n",
    "    text = tokenizer.apply_chat_template(\n",
    "        messages,\n",
    "        tokenize=False,\n",
    "        add_generation_prompt=True\n",
    "    )\n",
    "\n",
    "    model_inputs = tokenizer([text], return_tensors=\"pt\").to(model.device)\n",
    "\n",
    "    generated_ids = model.generate(\n",
    "        **model_inputs,\n",
    "        max_new_tokens=max_new_tokens,\n",
    "        temperature=temperature,\n",
    "        do_sample=True,\n",
    "    )\n",
    "    # 提取仅由模型生成的token ids（排除输入部分）\n",
    "    generated_ids = [\n",
    "        output_ids[len(input_ids):] for input_ids, output_ids in zip(model_inputs.input_ids, generated_ids)\n",
    "    ]\n",
    "    # 统计生成的tokens数量（直接取生成序列的长度）\n",
    "    generated_tokens_count = len(generated_ids[0])  # 因输入是单条，取第一个元素的长度\n",
    "    # 解码生成的token ids为文本\n",
    "    response = tokenizer.batch_decode(generated_ids, skip_special_tokens=True)[0]\n",
    "    \n",
    "    # 返回响应文本和生成的tokens数量\n",
    "    return {\n",
    "        \"response\":response,\n",
    "        \"generated_tokens_count\":generated_tokens_count\n",
    "    }"
   ]
  },
  {
   "cell_type": "code",
   "execution_count": 10,
   "id": "deea52ee",
   "metadata": {},
   "outputs": [
    {
     "name": "stdout",
     "output_type": "stream",
     "text": [
      "{'response': '嫦娥七号计划于2026年发射。', 'generated_tokens_count': 14}\n"
     ]
    }
   ],
   "source": [
    "prompt=\"\"\"\n",
    "指令：从以下新闻文本中提取信息\n",
    "上下文：2025年7月8日，国家航天局宣布，嫦娥七号探测器计划于2026年发射，将开展月球南极环境与资源勘查。据悉，嫦娥七号将搭载4台国际合作载荷，包括与欧洲空间局合作的月表负离子分析仪。\n",
    "输入问题：输出嫦娥七号的发射时间\n",
    "输出：\n",
    "\"\"\"\n",
    "print(inference(model,tokenizer,prompt))"
   ]
  },
  {
   "cell_type": "code",
   "execution_count": null,
   "id": "5429f8d1",
   "metadata": {},
   "outputs": [],
   "source": []
  }
 ],
 "metadata": {
  "kernelspec": {
   "display_name": "prompt",
   "language": "python",
   "name": "python3"
  },
  "language_info": {
   "codemirror_mode": {
    "name": "ipython",
    "version": 3
   },
   "file_extension": ".py",
   "mimetype": "text/x-python",
   "name": "python",
   "nbconvert_exporter": "python",
   "pygments_lexer": "ipython3",
   "version": "3.10.13"
  }
 },
 "nbformat": 4,
 "nbformat_minor": 5
}
