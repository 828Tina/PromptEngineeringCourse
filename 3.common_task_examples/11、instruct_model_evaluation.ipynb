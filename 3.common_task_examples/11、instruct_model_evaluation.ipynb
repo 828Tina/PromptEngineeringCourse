{
 "cells": [
  {
   "cell_type": "markdown",
   "id": "f0898de3",
   "metadata": {},
   "source": [
    "# 微调模型评估\n",
    "除了上述列举的各种任务类型，还可以通过设计提示词让大模型充当“裁判”的角色对已经微调好的模型进行打分，比如让微调后的模型回答一些问题，如果是数学问题可以直接对答案，而如果是一些文本类的回答，则可以让大模型对回答的准确性进行打分，充当“裁判”的大模型要求能力很强，这样才能在评估过程中客观评分，我们举一个简单的例子："
   ]
  },
  {
   "cell_type": "code",
   "execution_count": 1,
   "id": "cce6b636",
   "metadata": {},
   "outputs": [
    {
     "name": "stderr",
     "output_type": "stream",
     "text": [
      "/home/lixinyu/miniconda3/envs/prompt/lib/python3.10/site-packages/requests/__init__.py:86: RequestsDependencyWarning: Unable to find acceptable character detection dependency (chardet or charset_normalizer).\n",
      "  warnings.warn(\n",
      "/home/lixinyu/miniconda3/envs/prompt/lib/python3.10/site-packages/tqdm/auto.py:21: TqdmWarning: IProgress not found. Please update jupyter and ipywidgets. See https://ipywidgets.readthedocs.io/en/stable/user_install.html\n",
      "  from .autonotebook import tqdm as notebook_tqdm\n",
      "Loading checkpoint shards: 100%|██████████| 2/2 [00:01<00:00,  1.71it/s]\n"
     ]
    }
   ],
   "source": [
    "### 加载模型Qwen模型\n",
    "from modelscope import AutoModelForCausalLM, AutoTokenizer\n",
    "\n",
    "model_name_or_path_instruct = '/home/lixinyu/weights/Qwen2.5-3B-Instruct'  # 替换为你下载的模型路径\n",
    "tokenizer_instruct = AutoTokenizer.from_pretrained(model_name_or_path_instruct)\n",
    "model_instruct = AutoModelForCausalLM.from_pretrained(model_name_or_path_instruct,device_map='cuda:0', torch_dtype='auto')"
   ]
  },
  {
   "cell_type": "code",
   "execution_count": 2,
   "id": "5d304aa4",
   "metadata": {},
   "outputs": [],
   "source": [
    "# 推理函数\n",
    "def inference(model,tokenizer,prompt,system=\"你是一个专业的人工智能助手\",max_new_tokens=512,temperature=0.9):\n",
    "    messages = [\n",
    "        {\"role\": \"system\", \"content\": system},\n",
    "        {\"role\": \"user\", \"content\": prompt}\n",
    "    ]\n",
    "    text = tokenizer.apply_chat_template(\n",
    "        messages,\n",
    "        tokenize=False,\n",
    "        add_generation_prompt=True\n",
    "    )\n",
    "\n",
    "    model_inputs = tokenizer([text], return_tensors=\"pt\").to(model.device)\n",
    "\n",
    "    generated_ids = model.generate(\n",
    "        **model_inputs,\n",
    "        max_new_tokens=max_new_tokens,\n",
    "        temperature=temperature,\n",
    "        do_sample=True,\n",
    "    )\n",
    "    # 提取仅由模型生成的token ids（排除输入部分）\n",
    "    generated_ids = [\n",
    "        output_ids[len(input_ids):] for input_ids, output_ids in zip(model_inputs.input_ids, generated_ids)\n",
    "    ]\n",
    "    # 统计生成的tokens数量（直接取生成序列的长度）\n",
    "    generated_tokens_count = len(generated_ids[0])  # 因输入是单条，取第一个元素的长度\n",
    "    # 解码生成的token ids为文本\n",
    "    response = tokenizer.batch_decode(generated_ids, skip_special_tokens=True)[0]\n",
    "    \n",
    "    # 返回响应文本和生成的tokens数量\n",
    "    return {\n",
    "        \"response\":response,\n",
    "        \"generated_tokens_count\":generated_tokens_count\n",
    "    }"
   ]
  },
  {
   "cell_type": "code",
   "execution_count": 3,
   "id": "2a15a229",
   "metadata": {},
   "outputs": [],
   "source": [
    "prompt_1=\"\"\"\n",
    "你是一位严格的评分老师。下面是一段「待评回答」。请只看它的事实准确性，忽略格式和语气。  \n",
    "评分标准：  \n",
    "0 分 = 完全不符合事实\n",
    "1 分 = 有明显事实错误  \n",
    "2 分 = 有小错误，整体仍对  \n",
    "3 分 = 完全正确  \n",
    "\n",
    "只要回复一个数字（0/1/2/3）和一句理由，不要多余内容。\n",
    "\n",
    "### 待评估问题：\n",
    "巴黎现在有多少的人口？\n",
    "\n",
    "### 待评回答：\n",
    "根据2022年最新的统计数据，巴黎的总人口约为216万。\n",
    "\"\"\""
   ]
  },
  {
   "cell_type": "code",
   "execution_count": 4,
   "id": "130f74bf",
   "metadata": {},
   "outputs": [
    {
     "name": "stdout",
     "output_type": "stream",
     "text": [
      "{'response': '2/巴黎2022年的最新统计数据并没有明确指出人口为216万，存在一定的不确定性。', 'generated_tokens_count': 25}\n"
     ]
    }
   ],
   "source": [
    "print(inference(model_instruct,tokenizer_instruct,prompt_1))\n"
   ]
  },
  {
   "cell_type": "markdown",
   "id": "0ebe0702",
   "metadata": {},
   "source": [
    "当然我们也可以让大模型判断回答结果和正确结果之间的相似程度作为评分标准："
   ]
  },
  {
   "cell_type": "code",
   "execution_count": 5,
   "id": "10e518af",
   "metadata": {},
   "outputs": [],
   "source": [
    "prompt_2=\"\"\"\n",
    "你是评分员。请把下面的“标准答案”和“模型回答”对比，按 1–5 打分：  \n",
    "5 分 = 含义完全一致  \n",
    "4 分 = 基本一致，细节微差  \n",
    "3 分 = 部分匹配  \n",
    "2 分 = 少量相关  \n",
    "1 分 = 完全不符  \n",
    "\n",
    "只回复一个数字（1-5）和一句理由，不要多余内容。\n",
    "\n",
    "### 问题：\n",
    "光合作用需要什么？\n",
    "\n",
    "### 标准答案：\n",
    "阳光  \n",
    "\n",
    "### 模型回答：\n",
    "光合作用是植物、藻类和某些细菌利用阳光将二氧化碳和水转化为氧气和葡萄糖的过程。在这个过程中，光合作用需要以下条件和成分：\n",
    "\n",
    "1. **光**：这是光合作用的直接能量来源。\n",
    "2. **二氧化碳（CO₂）**：从大气中吸收的二氧化碳用于合成有机物。\n",
    "3. **水（H₂O）**：通过叶绿体中的叶绿体膜上的水裂解过程产生氢离子和氧气。\n",
    "4. **叶绿素和其他色素**：叶绿素是主要的色素，能够吸收太阳光并将其转化为\n",
    "\"\"\""
   ]
  },
  {
   "cell_type": "code",
   "execution_count": 6,
   "id": "47bb6c7b",
   "metadata": {},
   "outputs": [
    {
     "name": "stdout",
     "output_type": "stream",
     "text": [
      "{'response': '4\\n\\n理由：模型回答虽然提到了光作为光合作用的能量来源，但没有直接给出“阳光”这一术语，只是表述为“光”。其他细节与标准答案基本一致。', 'generated_tokens_count': 42}\n"
     ]
    }
   ],
   "source": [
    "print(inference(model_instruct,tokenizer_instruct,prompt_2))"
   ]
  },
  {
   "cell_type": "markdown",
   "id": "f47605cc",
   "metadata": {},
   "source": [
    "从上面的例子可以看出，当大模型充当“裁判”后就可以替代人工做出合理的打分，这样的评估可以通过批量运行脚本，从而提高评估的效率。"
   ]
  },
  {
   "cell_type": "markdown",
   "id": "af3d4dae",
   "metadata": {},
   "source": []
  }
 ],
 "metadata": {
  "kernelspec": {
   "display_name": "prompt",
   "language": "python",
   "name": "python3"
  },
  "language_info": {
   "codemirror_mode": {
    "name": "ipython",
    "version": 3
   },
   "file_extension": ".py",
   "mimetype": "text/x-python",
   "name": "python",
   "nbconvert_exporter": "python",
   "pygments_lexer": "ipython3",
   "version": "3.10.13"
  }
 },
 "nbformat": 4,
 "nbformat_minor": 5
}
