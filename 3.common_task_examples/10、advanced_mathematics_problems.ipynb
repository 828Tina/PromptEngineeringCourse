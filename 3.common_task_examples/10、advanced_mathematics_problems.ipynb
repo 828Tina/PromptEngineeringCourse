{
 "cells": [
  {
   "cell_type": "markdown",
   "id": "cdaddc35",
   "metadata": {},
   "source": [
    "# 进阶数学问题\n",
    "更复杂的数学问题如果单靠Instruct模型可能行不通，这跟人类一样，当我们在做高考数学题的时候，尤其是压轴题，我们读完题目总需要在草稿纸上不断的推演、不断的计算，我们并不能一气呵成的给出最准确的答案，也就是需要思考，模型同样也需要思考，而这正是推理型模型的优势所在，因为推理型模型经过大规模的训练，早已具备了反思和推理能力，无需我们添加CoT，模型就会通过长文本的思考给出最正确的答案。\n",
    "\n",
    "推理型模型我们使用开源的Qwen3模型，该模型在数学问题上的表现非常好，我们可以直接使用该模型来解决数学问题。\n",
    "\n",
    "> 之所以选择推理型模型而不是用CoT是因为更复杂的数学问题单纯靠CoT效果不一样会很好，因为更重要的是如果模型本身能力达不到，再怎么添加思考过程也没用。"
   ]
  },
  {
   "cell_type": "code",
   "execution_count": 1,
   "id": "584000b2",
   "metadata": {},
   "outputs": [
    {
     "name": "stderr",
     "output_type": "stream",
     "text": [
      "/home/lixinyu/miniconda3/envs/prompt/lib/python3.10/site-packages/requests/__init__.py:86: RequestsDependencyWarning: Unable to find acceptable character detection dependency (chardet or charset_normalizer).\n",
      "  warnings.warn(\n",
      "/home/lixinyu/miniconda3/envs/prompt/lib/python3.10/site-packages/tqdm/auto.py:21: TqdmWarning: IProgress not found. Please update jupyter and ipywidgets. See https://ipywidgets.readthedocs.io/en/stable/user_install.html\n",
      "  from .autonotebook import tqdm as notebook_tqdm\n",
      "Loading checkpoint shards: 100%|██████████| 3/3 [00:01<00:00,  1.81it/s]\n"
     ]
    }
   ],
   "source": [
    "### 加载模型：Qwen3-4B模型\n",
    "from modelscope import AutoTokenizer, AutoModelForCausalLM\n",
    "\n",
    "reasoning_model_name_or_path = '/home/lixinyu/weights/Qwen3-4B'  # 替换为你下载的模型路径\n",
    "reasoning_tokenizer = AutoTokenizer.from_pretrained(reasoning_model_name_or_path)\n",
    "reasoning_model = AutoModelForCausalLM.from_pretrained(reasoning_model_name_or_path,device_map='cuda:0', torch_dtype='auto')"
   ]
  },
  {
   "cell_type": "code",
   "execution_count": 2,
   "id": "b343ef40",
   "metadata": {},
   "outputs": [],
   "source": [
    "# Qwen3模型的推理函数\n",
    "def resoning_inference(model,tokenizer,prompt,system=\"你是一个专业的人工智能助手，请回答的尽量简洁\",max_new_tokens=32768,temperature=0.9):\n",
    "    messages = [\n",
    "        {\"role\": \"system\", \"content\": system},\n",
    "        {\"role\": \"user\", \"content\": prompt}\n",
    "    ]\n",
    "    text = tokenizer.apply_chat_template(\n",
    "        messages,\n",
    "        tokenize=False,\n",
    "        add_generation_prompt=True,\n",
    "        enable_thinking=True # Switches between thinking and non-thinking modes. Default is True.\n",
    "    )\n",
    "    model_inputs = tokenizer([text], return_tensors=\"pt\").to(model.device)\n",
    "\n",
    "    # conduct text completion\n",
    "    generated_ids = model.generate(\n",
    "        **model_inputs,\n",
    "        max_new_tokens=max_new_tokens,\n",
    "        temperature=temperature,\n",
    "        do_sample=True\n",
    "    )\n",
    "    output_ids = generated_ids[0][len(model_inputs.input_ids[0]):].tolist() \n",
    "\n",
    "    # parsing thinking content\n",
    "    try:\n",
    "        # rindex finding 151668 (</think>)\n",
    "        index = len(output_ids) - output_ids[::-1].index(151668)\n",
    "    except ValueError:\n",
    "        index = 0\n",
    "\n",
    "    thinking_content = tokenizer.decode(output_ids[:index], skip_special_tokens=True).strip(\"\\n\")\n",
    "    content = tokenizer.decode(output_ids[index:], skip_special_tokens=True).strip(\"\\n\")\n",
    "    response = tokenizer.decode(output_ids,skip_special_tokens=True).strip(\"\\n\")\n",
    "\n",
    "    return {\n",
    "        \"thinking_content\":thinking_content,\n",
    "        \"content\":content,\n",
    "        \"response\":response\n",
    "    }"
   ]
  },
  {
   "cell_type": "code",
   "execution_count": 3,
   "id": "b2d10e9d",
   "metadata": {},
   "outputs": [],
   "source": [
    "prompt=\"\"\"\n",
    "早上8点，一列火车从A站出发，以每小时60英里的速度向东行驶。另一列火车上午9点从A站以东300英里的B站出发，以每小时75英里的速度向西行驶。这两列火车什么时候会合？\n",
    "\"\"\""
   ]
  },
  {
   "cell_type": "code",
   "execution_count": 4,
   "id": "7b10119d",
   "metadata": {},
   "outputs": [
    {
     "name": "stdout",
     "output_type": "stream",
     "text": [
      "<think>\n",
      "好的，我现在要解决这个问题，两列火车什么时候会合。让我仔细读一遍题目，确保我理解正确。\n",
      "\n",
      "题目说，早上8点，一列火车从A站出发，以每小时60英里的速度向东行驶。另一列火车上午9点从A站以东300英里的B站出发，以每小时75英里的速度向西行驶。问这两列火车什么时候会合。\n",
      "\n",
      "首先，我需要明确两列火车的出发时间和方向。第一列火车从A站出发，时间是早上8点，向东行驶。第二列火车在上午9点从B站出发，向西行驶。B站位于A站东边300英里处。所以，当第二列火车出发时，第一列火车已经行驶了1小时，对吧？因为从8点到9点是1小时。\n",
      "\n",
      "接下来，我需要计算两列火车在什么时候相遇。相遇的时候，它们的行驶距离之和应该等于A站和B站之间的300英里。不过，这里需要注意的是，第一列火车在第二列火车出发前已经行驶了一段时间，所以可能需要先计算这段时间内第一列火车行驶的距离，然后再加上之后两列火车的相对运动。\n",
      "\n",
      "让我先画一个简单的示意图来帮助理解。A站和B站之间相距300英里，B站位于A站东边。第一列火车从A站出发向东，速度60mph。第二列火车从B站出发向西，速度75mph。第二列火车比第一列火车晚出发1小时，所以当第二列火车开始出发的时候，第一列火车已经走了60英里。因此，此时两列火车之间的距离是300英里减去60英里，也就是240英里。对吗？\n",
      "\n",
      "不过，可能我的这个思路有问题。因为当第二列火车出发的时候，第一列火车已经向东行驶了1小时，所以它离A站的距离是60英里。而B站是在A站东边300英里，所以两列火车之间的初始距离应该是300英里减去第一列火车已经行驶的60英里，也就是240英里。这时候，两列火车相向而行吗？不，第一列火车向东，第二列火车向西，所以它们是相向而行，对吗？所以它们的相对速度是60+75=135mph。这样，它们相遇的时间应该是初始距离240英里除以相对速度135mph，得到的时间就是从第二列火车出发后的时间，也就是从9点开始算起的时间。\n",
      "\n",
      "计算的话，240/135=1.777...小时，也就是1小时46.666...分钟，约等于1小时46分40秒。那么，相遇的时间就是9点加上1小时46分40秒，也就是10点46分40秒左右。不过，可能需要更精确的计算，或者用分数表示。\n",
      "\n",
      "不过，可能还有另一种方法，考虑从第一列火车出发的时间开始计算。第一列火车从8点出发，第二列火车在9点出发，所以我们可以设相遇的时间为t小时，从8点开始计算。那么，当第二列火车出发时，也就是t=1小时的时候，第二列火车开始出发，此时第一列火车已经行驶了60*1=60英里。之后，第二列火车行驶的时间是(t - 1)小时，而第一列火车行驶的时间是t小时。它们的行驶距离之和应该等于300英里，对吗？\n",
      "\n",
      "不过，这个时候，第一列火车向东行驶了60t英里，而第二列火车向西行驶了75*(t-1)英里。因为它们相向而行，所以它们的总距离之和应该等于300英里。所以方程应该是：\n",
      "\n",
      "60t + 75(t - 1) = 300\n",
      "\n",
      "解这个方程：\n",
      "\n",
      "60t + 75t - 75 = 300\n",
      "\n",
      "135t = 375\n",
      "\n",
      "t = 375 / 135 = 25/9 ≈ 2.777...小时，也就是2小时46分40秒。所以从8点开始计算，2小时46分40秒后，也就是10点46分40秒左右。\n",
      "\n",
      "这样得到的结论和之前的方法是一致的，对吗？因为之前用的是从9点开始计算，得到的是1小时46分40秒，加上9点就是10点46分40秒，所以两种方法得出的结果一致。这说明我的计算是对的。\n",
      "\n",
      "不过，可能还有哪里需要再检查一下？比如，是否初始距离是正确的。当第二列火车开始出发的时候，第一列火车已经行驶了1小时，所以它离A站60英里，而B站离A站300英里，所以两列火车之间的距离是300 - 60 = 240英里，对吗？是的。然后两列火车相向而行，所以他们的相对速度是60+75=135mph，所以相遇时间是240/135=1.777小时，也就是1小时46分40秒，加上9点就是10点46分40秒。\n",
      "\n",
      "不过，可能还有另一种方式，用相对运动来计算。或者考虑两列火车的运动方程。比如，第一列火车的位置随时间的变化是：x1(t) = 60t（t以小时为单位，从8点开始）。第二列火车的位置是：当它出发的时间是t=1小时的时候，所以它的位置是x2(t) = 300 - 75*(t - 1)，其中t >=1。当它们相遇的时候，x1(t) = x2(t)，即：\n",
      "\n",
      "60t = 300 -75(t -1)\n",
      "\n",
      "解这个方程：\n",
      "\n",
      "60t = 300 -75t +75\n",
      "\n",
      "60t +75t = 375\n",
      "\n",
      "135t = 375\n",
      "\n",
      "t = 375/135 = 25/9 ≈ 2.777小时，即2小时46分40秒，同样得到从8点开始的2小时46分40秒，也就是10点46分40秒。\n",
      "\n",
      "所以，不管用哪种方法，结果都是相同的。所以答案应该是10点46分40秒左右，或者更精确的分数形式。不过，可能题目希望用分数或更简洁的方式表达。\n",
      "\n",
      "不过，可能需要将时间转换为更精确的格式，或者用分数。比如，25/9小时等于2小时加上(25/9 - 2) = 25/9 - 18/9 =7/9小时，7/9小时等于46.666...分钟，也就是46分40秒。所以，最终时间是8点+2小时46分40秒=10点46分40秒。\n",
      "\n",
      "不过，可能需要以更精确的时间表达方式给出答案，或者用分数表示。比如，25/9小时等于2小时46又2/3分钟，即10点46分40秒。\n",
      "\n",
      "不过，通常在这样的问题中，答案可能需要以小时的小数或者分数形式给出，或者用更简洁的表达方式。比如，25/9小时等于约2.78小时，但题目可能需要更具体的答案，所以应该以具体的小时和分钟来表示。\n",
      "\n",
      "综上，两列火车会在10点46分40秒相遇。不过，可能需要检查一下计算过程是否正确，有没有哪里出错了。\n",
      "\n",
      "再检查一遍方程：60t +75(t-1) =300，或者60t =300 -75(t-1)。是的，两种方式都是正确的。解得t=25/9，约2.777小时，即2小时46分40秒。所以正确。\n",
      "</think>\n",
      "\n",
      "两列火车将在**10点46分40秒**相遇。  \n",
      "**计算过程：**  \n",
      "1. 第一列火车从8点出发，第二列火车从9点出发，此时两列火车相距300 - 60×1 = 240英里。  \n",
      "2. 相对速度为60 + 75 = 135 mph，相遇时间 = 240 / 135 = 1.777...小时（1小时46分40秒）。  \n",
      "3. 从9点加1小时46分40秒，得**10点46分40秒**。  \n",
      "\n",
      "**答案：10:46:40**\n"
     ]
    }
   ],
   "source": [
    "print(resoning_inference(reasoning_model,reasoning_tokenizer,prompt)[\"response\"])"
   ]
  },
  {
   "cell_type": "code",
   "execution_count": null,
   "id": "2a37d7ec",
   "metadata": {},
   "outputs": [],
   "source": []
  }
 ],
 "metadata": {
  "kernelspec": {
   "display_name": "prompt",
   "language": "python",
   "name": "python3"
  },
  "language_info": {
   "codemirror_mode": {
    "name": "ipython",
    "version": 3
   },
   "file_extension": ".py",
   "mimetype": "text/x-python",
   "name": "python",
   "nbconvert_exporter": "python",
   "pygments_lexer": "ipython3",
   "version": "3.10.13"
  }
 },
 "nbformat": 4,
 "nbformat_minor": 5
}
