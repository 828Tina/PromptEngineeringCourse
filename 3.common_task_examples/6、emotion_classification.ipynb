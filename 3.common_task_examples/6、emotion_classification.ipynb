{
 "cells": [
  {
   "cell_type": "markdown",
   "id": "e70f8df2",
   "metadata": {},
   "source": [
    "# 情感分类\n",
    "情感分类任务是需要大模型根据描述的句子给出对应的情感标签，这种指向性很强的目标，就需要进一步对提示词进行约束，在提示词中不仅要包含输入的句子，也要包含标签的种类，否则大模型是不知道具体如何分类的。而在进行大量的实验后，我们发现如果要输出仅输出标签，更加准确，那么可能需要举例表述才能实现。\n",
    "\n",
    "> 经过实验，`Qwen`模型比较适配中文任务，能很好的理解中文问题，如果是英文，可能会因为大小写出现问题"
   ]
  },
  {
   "cell_type": "code",
   "execution_count": 1,
   "id": "e437ce1a",
   "metadata": {},
   "outputs": [
    {
     "name": "stderr",
     "output_type": "stream",
     "text": [
      "/home/lixinyu/miniconda3/envs/prompt/lib/python3.10/site-packages/requests/__init__.py:86: RequestsDependencyWarning: Unable to find acceptable character detection dependency (chardet or charset_normalizer).\n",
      "  warnings.warn(\n",
      "/home/lixinyu/miniconda3/envs/prompt/lib/python3.10/site-packages/tqdm/auto.py:21: TqdmWarning: IProgress not found. Please update jupyter and ipywidgets. See https://ipywidgets.readthedocs.io/en/stable/user_install.html\n",
      "  from .autonotebook import tqdm as notebook_tqdm\n",
      "Loading checkpoint shards: 100%|██████████| 2/2 [00:00<00:00,  2.18it/s]\n"
     ]
    }
   ],
   "source": [
    "### 加载模型Qwen模型\n",
    "from modelscope import AutoModelForCausalLM, AutoTokenizer\n",
    "\n",
    "model_name_or_path_instruct = '/home/lixinyu/weights/Qwen2.5-3B-Instruct'  # 替换为你下载的模型路径\n",
    "tokenizer_instruct = AutoTokenizer.from_pretrained(model_name_or_path_instruct)\n",
    "model_instruct = AutoModelForCausalLM.from_pretrained(model_name_or_path_instruct,device_map='cuda:0', torch_dtype='auto')"
   ]
  },
  {
   "cell_type": "code",
   "execution_count": 2,
   "id": "d4080353",
   "metadata": {},
   "outputs": [],
   "source": [
    "# 推理函数\n",
    "def inference(model,tokenizer,prompt,system=\"你是一个专业的人工智能助手\",max_new_tokens=512,temperature=0.9):\n",
    "    messages = [\n",
    "        {\"role\": \"system\", \"content\": system},\n",
    "        {\"role\": \"user\", \"content\": prompt}\n",
    "    ]\n",
    "    text = tokenizer.apply_chat_template(\n",
    "        messages,\n",
    "        tokenize=False,\n",
    "        add_generation_prompt=True\n",
    "    )\n",
    "\n",
    "    model_inputs = tokenizer([text], return_tensors=\"pt\").to(model.device)\n",
    "\n",
    "    generated_ids = model.generate(\n",
    "        **model_inputs,\n",
    "        max_new_tokens=max_new_tokens,\n",
    "        temperature=temperature,\n",
    "        do_sample=True,\n",
    "    )\n",
    "    # 提取仅由模型生成的token ids（排除输入部分）\n",
    "    generated_ids = [\n",
    "        output_ids[len(input_ids):] for input_ids, output_ids in zip(model_inputs.input_ids, generated_ids)\n",
    "    ]\n",
    "    # 统计生成的tokens数量（直接取生成序列的长度）\n",
    "    generated_tokens_count = len(generated_ids[0])  # 因输入是单条，取第一个元素的长度\n",
    "    # 解码生成的token ids为文本\n",
    "    response = tokenizer.batch_decode(generated_ids, skip_special_tokens=True)[0]\n",
    "    \n",
    "    # 返回响应文本和生成的tokens数量\n",
    "    return {\n",
    "        \"response\":response,\n",
    "        \"generated_tokens_count\":generated_tokens_count\n",
    "    }"
   ]
  },
  {
   "cell_type": "markdown",
   "id": "e9b958d5",
   "metadata": {},
   "source": [
    "我们先看下英文情感分类"
   ]
  },
  {
   "cell_type": "code",
   "execution_count": 3,
   "id": "f81f2b24",
   "metadata": {},
   "outputs": [],
   "source": [
    "prompt_1=\"\"\"\n",
    "Classify the text into neutral, negative or positive. \n",
    "Text: I think the food was okay. \n",
    "Sentiment:\n",
    "\"\"\""
   ]
  },
  {
   "cell_type": "code",
   "execution_count": 4,
   "id": "af0c7e82",
   "metadata": {},
   "outputs": [
    {
     "name": "stdout",
     "output_type": "stream",
     "text": [
      "{'response': 'Sentiment: Neutral\\n\\nThe text \"I think the food was okay\" expresses a mild approval but does not indicate strong feelings either way. Therefore, it is classified as neutral sentiment.', 'generated_tokens_count': 38}\n"
     ]
    }
   ],
   "source": [
    "print(inference(model_instruct,tokenizer_instruct,prompt_1))"
   ]
  },
  {
   "cell_type": "markdown",
   "id": "1e1c3bff",
   "metadata": {},
   "source": [
    "你希望回答的是neutral这样没有其他任何补充的内容，同时你希望它返回的是neutral而不是Neutral，很明显，现在模型的回答一个都不符合。那么如何实现呢？有几种不同的方法可以做到这一点。在这里，你关心的是具体性，所以你给提示词提供的信息越多，结果就越好。你可以尝试提供示例来指定正确的行为。并且对于回答的约束我们需要跟进一步，让我们再试一次."
   ]
  },
  {
   "cell_type": "code",
   "execution_count": 5,
   "id": "6831b0a1",
   "metadata": {},
   "outputs": [],
   "source": [
    "prompt_2=\"\"\"\n",
    "Classify the text into neutral, negative or positive. Only answer the emotional tags.\n",
    "Text: I think the vacation is okay.\n",
    "Sentiment: neutral \n",
    "Text: I think the food was okay. \n",
    "Sentiment:\n",
    "\"\"\""
   ]
  },
  {
   "cell_type": "code",
   "execution_count": 6,
   "id": "7ae73ce1",
   "metadata": {},
   "outputs": [
    {
     "name": "stdout",
     "output_type": "stream",
     "text": [
      "{'response': 'neutral', 'generated_tokens_count': 2}\n"
     ]
    }
   ],
   "source": [
    "print(inference(model_instruct,tokenizer_instruct,prompt_2))"
   ]
  },
  {
   "cell_type": "markdown",
   "id": "2e12b574",
   "metadata": {},
   "source": [
    "这次模型返回了neutral，这是你所寻找的具体标签。看起来，提示中提供的示例帮助模型在其输出中保持了具体性，并且没有多余的分析内容了，因为你强迫模型必须只能回答标签。\n",
    "不过上述例子展示了在英文当中的错误，但事实上，在中文方面，Qwen模型要做的更好一点："
   ]
  },
  {
   "cell_type": "code",
   "execution_count": 7,
   "id": "7500334b",
   "metadata": {},
   "outputs": [],
   "source": [
    "prompt_3=\"\"\"\n",
    "将文本分为中性、否定或肯定。只回答情感标签。\n",
    "文本：我觉得这个假期还可以。\n",
    "标签：中性\n",
    "文本：这部电影一般\n",
    "标签：\n",
    "\"\"\""
   ]
  },
  {
   "cell_type": "code",
   "execution_count": 8,
   "id": "e623260e",
   "metadata": {},
   "outputs": [
    {
     "name": "stdout",
     "output_type": "stream",
     "text": [
      "{'response': '中性', 'generated_tokens_count': 3}\n"
     ]
    }
   ],
   "source": [
    "print(inference(model_instruct,tokenizer_instruct,prompt_3))"
   ]
  },
  {
   "cell_type": "markdown",
   "id": "ac2f79e5",
   "metadata": {},
   "source": [
    "这或许是因为英文的大小写并不影响含义，而中文就没有这种顾虑，总之，对于Qwen模型，中文的指令遵从效果要好于英文。"
   ]
  },
  {
   "cell_type": "markdown",
   "id": "a8bc929d",
   "metadata": {},
   "source": []
  }
 ],
 "metadata": {
  "kernelspec": {
   "display_name": "prompt",
   "language": "python",
   "name": "python3"
  },
  "language_info": {
   "codemirror_mode": {
    "name": "ipython",
    "version": 3
   },
   "file_extension": ".py",
   "mimetype": "text/x-python",
   "name": "python",
   "nbconvert_exporter": "python",
   "pygments_lexer": "ipython3",
   "version": "3.10.13"
  }
 },
 "nbformat": 4,
 "nbformat_minor": 5
}
