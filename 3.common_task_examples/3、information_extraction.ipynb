{
 "cells": [
  {
   "cell_type": "markdown",
   "id": "c41ba40c",
   "metadata": {},
   "source": [
    "# 信息提取\n",
    "因为优秀的上下文理解能力，Base模型可以轻松的从大段数据中提取重要信息，在提示词的约束下得到对应的内容。"
   ]
  },
  {
   "cell_type": "code",
   "execution_count": 1,
   "id": "e3d18825",
   "metadata": {},
   "outputs": [
    {
     "name": "stderr",
     "output_type": "stream",
     "text": [
      "/home/lixinyu/miniconda3/envs/prompt/lib/python3.10/site-packages/requests/__init__.py:86: RequestsDependencyWarning: Unable to find acceptable character detection dependency (chardet or charset_normalizer).\n",
      "  warnings.warn(\n",
      "/home/lixinyu/miniconda3/envs/prompt/lib/python3.10/site-packages/tqdm/auto.py:21: TqdmWarning: IProgress not found. Please update jupyter and ipywidgets. See https://ipywidgets.readthedocs.io/en/stable/user_install.html\n",
      "  from .autonotebook import tqdm as notebook_tqdm\n",
      "Loading checkpoint shards: 100%|██████████| 2/2 [00:00<00:00,  2.17it/s]\n"
     ]
    }
   ],
   "source": [
    "### 加载模型Qwen模型\n",
    "from modelscope import AutoModelForCausalLM, AutoTokenizer\n",
    "\n",
    "model_name_or_path_instruct = '/home/lixinyu/weights/Qwen2.5-3B-Instruct'  # 替换为你下载的模型路径\n",
    "tokenizer_instruct = AutoTokenizer.from_pretrained(model_name_or_path_instruct)\n",
    "model_instruct = AutoModelForCausalLM.from_pretrained(model_name_or_path_instruct,device_map='cuda:0', torch_dtype='auto')"
   ]
  },
  {
   "cell_type": "code",
   "execution_count": 2,
   "id": "e10ac69e",
   "metadata": {},
   "outputs": [],
   "source": [
    "# 推理函数\n",
    "def inference(model,tokenizer,prompt,system=\"你是一个专业的人工智能助手\",max_new_tokens=512,temperature=0.9):\n",
    "    messages = [\n",
    "        {\"role\": \"system\", \"content\": system},\n",
    "        {\"role\": \"user\", \"content\": prompt}\n",
    "    ]\n",
    "    text = tokenizer.apply_chat_template(\n",
    "        messages,\n",
    "        tokenize=False,\n",
    "        add_generation_prompt=True\n",
    "    )\n",
    "\n",
    "    model_inputs = tokenizer([text], return_tensors=\"pt\").to(model.device)\n",
    "\n",
    "    generated_ids = model.generate(\n",
    "        **model_inputs,\n",
    "        max_new_tokens=max_new_tokens,\n",
    "        temperature=temperature,\n",
    "        do_sample=True,\n",
    "    )\n",
    "    # 提取仅由模型生成的token ids（排除输入部分）\n",
    "    generated_ids = [\n",
    "        output_ids[len(input_ids):] for input_ids, output_ids in zip(model_inputs.input_ids, generated_ids)\n",
    "    ]\n",
    "    # 统计生成的tokens数量（直接取生成序列的长度）\n",
    "    generated_tokens_count = len(generated_ids[0])  # 因输入是单条，取第一个元素的长度\n",
    "    # 解码生成的token ids为文本\n",
    "    response = tokenizer.batch_decode(generated_ids, skip_special_tokens=True)[0]\n",
    "    \n",
    "    # 返回响应文本和生成的tokens数量\n",
    "    return {\n",
    "        \"response\":response,\n",
    "        \"generated_tokens_count\":generated_tokens_count\n",
    "    }"
   ]
  },
  {
   "cell_type": "code",
   "execution_count": 3,
   "id": "2b2479cd",
   "metadata": {},
   "outputs": [],
   "source": [
    "text=\"EcoFusion Pro是一款便携式搅拌机，将于2023年发布，售价89.99美元。它有一个400W的电机，500ml的容量，由不含bpa的塑料制成。它有2年的保修期，有三种颜色可供选择：蓝色、白色和绿色。该产品专为户外使用而设计，可以在10秒内混合冰。\"\n",
    "prompt=f\"\"\"\n",
    "## 文本内容\n",
    "{text}\n",
    "\n",
    "## 问题\n",
    "请你从上述文本中总结EcoFusion Pro需要多少钱？\n",
    "\"\"\""
   ]
  },
  {
   "cell_type": "code",
   "execution_count": 4,
   "id": "89f6fb46",
   "metadata": {},
   "outputs": [
    {
     "name": "stdout",
     "output_type": "stream",
     "text": [
      "{'response': 'EcoFusion Pro的价格是89.99美元。', 'generated_tokens_count': 15}\n"
     ]
    }
   ],
   "source": [
    "print(inference(model_instruct,tokenizer_instruct,prompt))"
   ]
  },
  {
   "cell_type": "code",
   "execution_count": null,
   "id": "d1e69ec8",
   "metadata": {},
   "outputs": [],
   "source": []
  }
 ],
 "metadata": {
  "kernelspec": {
   "display_name": "prompt",
   "language": "python",
   "name": "python3"
  },
  "language_info": {
   "codemirror_mode": {
    "name": "ipython",
    "version": 3
   },
   "file_extension": ".py",
   "mimetype": "text/x-python",
   "name": "python",
   "nbconvert_exporter": "python",
   "pygments_lexer": "ipython3",
   "version": "3.10.13"
  }
 },
 "nbformat": 4,
 "nbformat_minor": 5
}
